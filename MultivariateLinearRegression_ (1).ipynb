{
  "nbformat": 4,
  "nbformat_minor": 0,
  "metadata": {
    "colab": {
      "name": "MultivariateLinearRegression .ipynb",
      "provenance": [],
      "collapsed_sections": []
    },
    "kernelspec": {
      "name": "python3",
      "display_name": "Python 3"
    }
  },
  "cells": [
    {
      "cell_type": "markdown",
      "metadata": {
        "id": "U-ywomXAyqeM",
        "colab_type": "text"
      },
      "source": [
        "Multivariate Linear Regression without scaling\n",
        " -rahul23aug"
      ]
    },
    {
      "cell_type": "code",
      "metadata": {
        "id": "sm8R62tv9fpg",
        "colab_type": "code",
        "colab": {}
      },
      "source": [
        "import numpy as np\n",
        "import pandas as pd"
      ],
      "execution_count": 2,
      "outputs": []
    },
    {
      "cell_type": "markdown",
      "metadata": {
        "id": "lrD2bURjTUUw",
        "colab_type": "text"
      },
      "source": [
        "LOAD THE DATASET"
      ]
    },
    {
      "cell_type": "code",
      "metadata": {
        "id": "3s9Mau9zTEvn",
        "colab_type": "code",
        "colab": {}
      },
      "source": [
        "dataset=pd.read_csv('50_Startups.csv')\n"
      ],
      "execution_count": 6,
      "outputs": []
    },
    {
      "cell_type": "markdown",
      "metadata": {
        "id": "LZv5To78ad7L",
        "colab_type": "text"
      },
      "source": [
        "DATA WRANGLING :\n",
        "\n",
        "No na's in the data but since we have categorical data \"State\" we will encode it to dummy variables, since whe have three labels viz California, New York, Florida\n",
        "we need 3-1=2 dummy variables\n",
        "such that D0=California and D1=New York"
      ]
    },
    {
      "cell_type": "code",
      "metadata": {
        "id": "9gyzfvONX7SL",
        "colab_type": "code",
        "colab": {}
      },
      "source": [
        "dataset['D0']=dataset['State'].replace({\"California\":1,\"Florida\":0,\"New York\":0})\n",
        "dataset['D1']=dataset['State'].replace({\"California\":0,\"Florida\":0,\"New York\":1})\n",
        "dataset['ones']= np.ones(len(dataset)).reshape(len(dataset),1)"
      ],
      "execution_count": 80,
      "outputs": []
    },
    {
      "cell_type": "markdown",
      "metadata": {
        "id": "UJMCHJKhdc0v",
        "colab_type": "text"
      },
      "source": [
        "View the changes"
      ]
    },
    {
      "cell_type": "code",
      "metadata": {
        "id": "NbkBUTOGb94e",
        "colab_type": "code",
        "colab": {
          "base_uri": "https://localhost:8080/",
          "height": 981
        },
        "outputId": "aa531ae7-07be-409f-88b1-039958fc08fa"
      },
      "source": [
        "print(dataset)"
      ],
      "execution_count": 81,
      "outputs": [
        {
          "output_type": "stream",
          "text": [
            "    R&D Spend  Administration  Marketing Spend  ... D0  D1  ones\n",
            "0   165349.20       136897.80        471784.10  ...  0   1   1.0\n",
            "1   162597.70       151377.59        443898.53  ...  1   0   1.0\n",
            "2   153441.51       101145.55        407934.54  ...  0   0   1.0\n",
            "3   144372.41       118671.85        383199.62  ...  0   1   1.0\n",
            "4   142107.34        91391.77        366168.42  ...  0   0   1.0\n",
            "5   131876.90        99814.71        362861.36  ...  0   1   1.0\n",
            "6   134615.46       147198.87        127716.82  ...  1   0   1.0\n",
            "7   130298.13       145530.06        323876.68  ...  0   0   1.0\n",
            "8   120542.52       148718.95        311613.29  ...  0   1   1.0\n",
            "9   123334.88       108679.17        304981.62  ...  1   0   1.0\n",
            "10  101913.08       110594.11        229160.95  ...  0   0   1.0\n",
            "11  100671.96        91790.61        249744.55  ...  1   0   1.0\n",
            "12   93863.75       127320.38        249839.44  ...  0   0   1.0\n",
            "13   91992.39       135495.07        252664.93  ...  1   0   1.0\n",
            "14  119943.24       156547.42        256512.92  ...  0   0   1.0\n",
            "15  114523.61       122616.84        261776.23  ...  0   1   1.0\n",
            "16   78013.11       121597.55        264346.06  ...  1   0   1.0\n",
            "17   94657.16       145077.58        282574.31  ...  0   1   1.0\n",
            "18   91749.16       114175.79        294919.57  ...  0   0   1.0\n",
            "19   86419.70       153514.11             0.00  ...  0   1   1.0\n",
            "20   76253.86       113867.30        298664.47  ...  1   0   1.0\n",
            "21   78389.47       153773.43        299737.29  ...  0   1   1.0\n",
            "22   73994.56       122782.75        303319.26  ...  0   0   1.0\n",
            "23   67532.53       105751.03        304768.73  ...  0   0   1.0\n",
            "24   77044.01        99281.34        140574.81  ...  0   1   1.0\n",
            "25   64664.71       139553.16        137962.62  ...  1   0   1.0\n",
            "26   75328.87       144135.98        134050.07  ...  0   0   1.0\n",
            "27   72107.60       127864.55        353183.81  ...  0   1   1.0\n",
            "28   66051.52       182645.56        118148.20  ...  0   0   1.0\n",
            "29   65605.48       153032.06        107138.38  ...  0   1   1.0\n",
            "30   61994.48       115641.28         91131.24  ...  0   0   1.0\n",
            "31   61136.38       152701.92         88218.23  ...  0   1   1.0\n",
            "32   63408.86       129219.61         46085.25  ...  1   0   1.0\n",
            "33   55493.95       103057.49        214634.81  ...  0   0   1.0\n",
            "34   46426.07       157693.92        210797.67  ...  1   0   1.0\n",
            "35   46014.02        85047.44        205517.64  ...  0   1   1.0\n",
            "36   28663.76       127056.21        201126.82  ...  0   0   1.0\n",
            "37   44069.95        51283.14        197029.42  ...  1   0   1.0\n",
            "38   20229.59        65947.93        185265.10  ...  0   1   1.0\n",
            "39   38558.51        82982.09        174999.30  ...  1   0   1.0\n",
            "40   28754.33       118546.05        172795.67  ...  1   0   1.0\n",
            "41   27892.92        84710.77        164470.71  ...  0   0   1.0\n",
            "42   23640.93        96189.63        148001.11  ...  1   0   1.0\n",
            "43   15505.73       127382.30         35534.17  ...  0   1   1.0\n",
            "44   22177.74       154806.14         28334.72  ...  1   0   1.0\n",
            "45    1000.23       124153.04          1903.93  ...  0   1   1.0\n",
            "46    1315.46       115816.21        297114.46  ...  0   0   1.0\n",
            "47       0.00       135426.92             0.00  ...  1   0   1.0\n",
            "48     542.05        51743.15             0.00  ...  0   1   1.0\n",
            "49       0.00       116983.80         45173.06  ...  1   0   1.0\n",
            "\n",
            "[50 rows x 8 columns]\n"
          ],
          "name": "stdout"
        }
      ]
    },
    {
      "cell_type": "markdown",
      "metadata": {
        "id": "oIM2Q20Igqdc",
        "colab_type": "text"
      },
      "source": [
        "Create a new dataframe to work with.\n",
        "the old one can be used for reference if needed"
      ]
    },
    {
      "cell_type": "code",
      "metadata": {
        "id": "dIxr8AnSfSNP",
        "colab_type": "code",
        "colab": {}
      },
      "source": [
        "df=dataset[['ones','R&D Spend', 'Administration', 'Marketing Spend','D0', 'D1', 'Profit']]\n",
        "#pass a list of the column names to be extracted from thr original dataframe and the order in which they must appear"
      ],
      "execution_count": 82,
      "outputs": []
    },
    {
      "cell_type": "markdown",
      "metadata": {
        "id": "pnOJI96SjnYT",
        "colab_type": "text"
      },
      "source": [
        "SHOW THE RESULTS"
      ]
    },
    {
      "cell_type": "code",
      "metadata": {
        "id": "5DtP6pErhRXf",
        "colab_type": "code",
        "colab": {
          "base_uri": "https://localhost:8080/",
          "height": 945
        },
        "outputId": "7d847c40-eeb0-4c69-a114-8e4f7cda8599"
      },
      "source": [
        "print(df)"
      ],
      "execution_count": 83,
      "outputs": [
        {
          "output_type": "stream",
          "text": [
            "    ones  R&D Spend  Administration  Marketing Spend  D0  D1     Profit\n",
            "0    1.0  165349.20       136897.80        471784.10   0   1  192261.83\n",
            "1    1.0  162597.70       151377.59        443898.53   1   0  191792.06\n",
            "2    1.0  153441.51       101145.55        407934.54   0   0  191050.39\n",
            "3    1.0  144372.41       118671.85        383199.62   0   1  182901.99\n",
            "4    1.0  142107.34        91391.77        366168.42   0   0  166187.94\n",
            "5    1.0  131876.90        99814.71        362861.36   0   1  156991.12\n",
            "6    1.0  134615.46       147198.87        127716.82   1   0  156122.51\n",
            "7    1.0  130298.13       145530.06        323876.68   0   0  155752.60\n",
            "8    1.0  120542.52       148718.95        311613.29   0   1  152211.77\n",
            "9    1.0  123334.88       108679.17        304981.62   1   0  149759.96\n",
            "10   1.0  101913.08       110594.11        229160.95   0   0  146121.95\n",
            "11   1.0  100671.96        91790.61        249744.55   1   0  144259.40\n",
            "12   1.0   93863.75       127320.38        249839.44   0   0  141585.52\n",
            "13   1.0   91992.39       135495.07        252664.93   1   0  134307.35\n",
            "14   1.0  119943.24       156547.42        256512.92   0   0  132602.65\n",
            "15   1.0  114523.61       122616.84        261776.23   0   1  129917.04\n",
            "16   1.0   78013.11       121597.55        264346.06   1   0  126992.93\n",
            "17   1.0   94657.16       145077.58        282574.31   0   1  125370.37\n",
            "18   1.0   91749.16       114175.79        294919.57   0   0  124266.90\n",
            "19   1.0   86419.70       153514.11             0.00   0   1  122776.86\n",
            "20   1.0   76253.86       113867.30        298664.47   1   0  118474.03\n",
            "21   1.0   78389.47       153773.43        299737.29   0   1  111313.02\n",
            "22   1.0   73994.56       122782.75        303319.26   0   0  110352.25\n",
            "23   1.0   67532.53       105751.03        304768.73   0   0  108733.99\n",
            "24   1.0   77044.01        99281.34        140574.81   0   1  108552.04\n",
            "25   1.0   64664.71       139553.16        137962.62   1   0  107404.34\n",
            "26   1.0   75328.87       144135.98        134050.07   0   0  105733.54\n",
            "27   1.0   72107.60       127864.55        353183.81   0   1  105008.31\n",
            "28   1.0   66051.52       182645.56        118148.20   0   0  103282.38\n",
            "29   1.0   65605.48       153032.06        107138.38   0   1  101004.64\n",
            "30   1.0   61994.48       115641.28         91131.24   0   0   99937.59\n",
            "31   1.0   61136.38       152701.92         88218.23   0   1   97483.56\n",
            "32   1.0   63408.86       129219.61         46085.25   1   0   97427.84\n",
            "33   1.0   55493.95       103057.49        214634.81   0   0   96778.92\n",
            "34   1.0   46426.07       157693.92        210797.67   1   0   96712.80\n",
            "35   1.0   46014.02        85047.44        205517.64   0   1   96479.51\n",
            "36   1.0   28663.76       127056.21        201126.82   0   0   90708.19\n",
            "37   1.0   44069.95        51283.14        197029.42   1   0   89949.14\n",
            "38   1.0   20229.59        65947.93        185265.10   0   1   81229.06\n",
            "39   1.0   38558.51        82982.09        174999.30   1   0   81005.76\n",
            "40   1.0   28754.33       118546.05        172795.67   1   0   78239.91\n",
            "41   1.0   27892.92        84710.77        164470.71   0   0   77798.83\n",
            "42   1.0   23640.93        96189.63        148001.11   1   0   71498.49\n",
            "43   1.0   15505.73       127382.30         35534.17   0   1   69758.98\n",
            "44   1.0   22177.74       154806.14         28334.72   1   0   65200.33\n",
            "45   1.0    1000.23       124153.04          1903.93   0   1   64926.08\n",
            "46   1.0    1315.46       115816.21        297114.46   0   0   49490.75\n",
            "47   1.0       0.00       135426.92             0.00   1   0   42559.73\n",
            "48   1.0     542.05        51743.15             0.00   0   1   35673.41\n",
            "49   1.0       0.00       116983.80         45173.06   1   0   14681.40\n"
          ],
          "name": "stdout"
        }
      ]
    },
    {
      "cell_type": "markdown",
      "metadata": {
        "id": "mNtbBgh5amAb",
        "colab_type": "text"
      },
      "source": [
        "Let's see how the dataframe column values fluctuate"
      ]
    },
    {
      "cell_type": "code",
      "metadata": {
        "id": "KZvFdcqSi0Cn",
        "colab_type": "code",
        "colab": {
          "base_uri": "https://localhost:8080/",
          "height": 417
        },
        "outputId": "8a213273-7dca-40a7-fbae-7f896d9de644"
      },
      "source": [
        "print(\"Max Features:\\n \")\n",
        "print(df.max(axis=0))\n",
        "print(\"\\n\\nMin Features: \\n\")\n",
        "print(df.min(axis=0))"
      ],
      "execution_count": 84,
      "outputs": [
        {
          "output_type": "stream",
          "text": [
            "Max Features:\n",
            " \n",
            "ones                    1.00\n",
            "R&D Spend          165349.20\n",
            "Administration     182645.56\n",
            "Marketing Spend    471784.10\n",
            "D0                      1.00\n",
            "D1                      1.00\n",
            "Profit             192261.83\n",
            "dtype: float64\n",
            "\n",
            "\n",
            "Min Features: \n",
            "\n",
            "ones                   1.00\n",
            "R&D Spend              0.00\n",
            "Administration     51283.14\n",
            "Marketing Spend        0.00\n",
            "D0                     0.00\n",
            "D1                     0.00\n",
            "Profit             14681.40\n",
            "dtype: float64\n"
          ],
          "name": "stdout"
        }
      ]
    },
    {
      "cell_type": "markdown",
      "metadata": {
        "id": "60dXpVeCnPq8",
        "colab_type": "text"
      },
      "source": [
        "multi-variate linear model is : \n",
        "\n",
        "y= Theta0 + Theta1*x1 + Theta2*x2 + Theta3*x3 +.....\n",
        "\n",
        "in vector notation:\n",
        "Theta(transpose)*xi (from 1 to n) + Theta0\n",
        "\n",
        "Gradient Descent is given by:\n",
        "min(theta) fot J(Theta0,Theta1,..)\n",
        "where j= ((yp=y)**2/2m)\n",
        "\n",
        "Note: Theta values must be updated simultaneously and then plugged in"
      ]
    },
    {
      "cell_type": "code",
      "metadata": {
        "id": "Lw0lGoQIm-JP",
        "colab_type": "code",
        "colab": {
          "base_uri": "https://localhost:8080/",
          "height": 54
        },
        "outputId": "89a28f06-a49c-489a-d933-fd8e7247f90e"
      },
      "source": [
        "x_features=df.iloc[:,:-1].values\n",
        "y_responses=df.iloc[:,-1].values\n",
        "print(x_features.shape)\n",
        "print(y_responses.shape)"
      ],
      "execution_count": 74,
      "outputs": [
        {
          "output_type": "stream",
          "text": [
            "(50, 6)\n",
            "(50,)\n"
          ],
          "name": "stdout"
        }
      ]
    },
    {
      "cell_type": "markdown",
      "metadata": {
        "id": "F7Kh-jXgYJSe",
        "colab_type": "text"
      },
      "source": [
        "Note: The model requires you to set the learning rate \n",
        "it is an iterative process"
      ]
    },
    {
      "cell_type": "code",
      "metadata": {
        "id": "BheC_5yP3Dob",
        "colab_type": "code",
        "colab": {
          "base_uri": "https://localhost:8080/",
          "height": 35
        },
        "outputId": "6a207245-638a-472c-9785-c4bdd4ca86fe"
      },
      "source": [
        "def fit(x_features,y_responses,alpha=0.000001,iter=200):\n",
        " theta=np.ones(x_features.shape[1]).T\n",
        " rl=[]\n",
        " for i in range(iter):\n",
        "  yp=(x_features*theta).sum(axis=1)\n",
        "  rl.append([(yp-y_responses).sum()])\n",
        "  for column in range(theta.shape[0]):\n",
        "    difference=((yp-y_responses)*theta[column]).sum()\n",
        "    theta[column]= theta[column] - (alpha*difference)/y_responses.shape[0]\n",
        " MSE=(((yp-y_responses)**2)/y_responses.shape[0]).sum()\n",
        " print(\"MSE: \",MSE)\n",
        " return (rl , iter, theta)\n",
        "y=fit(x_features,y_responses)"
      ],
      "execution_count": 90,
      "outputs": [
        {
          "output_type": "stream",
          "text": [
            "MSE:  470692868.35911435\n"
          ],
          "name": "stdout"
        }
      ]
    },
    {
      "cell_type": "code",
      "metadata": {
        "id": "ed7WZIRv34ma",
        "colab_type": "code",
        "colab": {
          "base_uri": "https://localhost:8080/",
          "height": 313
        },
        "outputId": "c4977bec-3f0f-43dd-df82-364ff2c69abe"
      },
      "source": [
        "import matplotlib.pyplot as plt\n",
        "x=np.arange(y[1])\n",
        "plt.plot(x,y[0])\n",
        "plt.xlabel(\"ITERATIONS\")\n",
        "plt.ylabel(\"RESIDUALS\")\n",
        "plt.title(\"Gradient Descent\")\n",
        "plt.show()\n",
        "print(\"Theta values are: \", end=\" \")\n",
        "print(y[2])"
      ],
      "execution_count": 94,
      "outputs": [
        {
          "output_type": "display_data",
          "data": {
            "image/png": "[encoded data removed]",
            "text/plain": [
              "<Figure size 432x288 with 1 Axes>"
            ]
          },
          "metadata": {
            "tags": [],
            "needs_background": "light"
          }
        },
        {
          "output_type": "stream",
          "text": [
            "Theta values are:  [0.27582999 0.27582999 0.27582999 0.27582999 0.27582999 0.27582999]\n"
          ],
          "name": "stdout"
        }
      ]
    },
    {
      "cell_type": "markdown",
      "metadata": {
        "id": "44TesH4kRrD0",
        "colab_type": "text"
      },
      "source": [
        "So, the hypothesis line is given by: 0.27582999 + 0.27582999(X1) + 0.27582999(X2) + 0.27582999(X3) + 0.27582999(X4) + 0.27582999(X5)"
      ]
    },
    {
      "cell_type": "code",
      "metadata": {
        "id": "HpId46IAPbhZ",
        "colab_type": "code",
        "colab": {
          "base_uri": "https://localhost:8080/",
          "height": 35
        },
        "outputId": "03501ad4-4d53-49b2-ec23-659fd9b896d5"
      },
      "source": [
        "# PREDICT USING THE MODEL\n",
        "def predict(x,th):\n",
        "  return (th.T*x).sum()\n",
        "x=[ 1.0,162597.70,151377.59,393898.53,1,1]\n",
        "print(\"%.5f\"%predict(x,y[2]))"
      ],
      "execution_count": 93,
      "outputs": [
        {
          "output_type": "stream",
          "text": [
            "195253.65962\n"
          ],
          "name": "stdout"
        }
      ]
    },
    {
      "cell_type": "markdown",
      "metadata": {
        "id": "i3cRJT2JLAiD",
        "colab_type": "text"
      },
      "source": [
        ""
      ]
    }
  ]
}
