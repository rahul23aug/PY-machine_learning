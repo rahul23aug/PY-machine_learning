{
  "nbformat": 4,
  "nbformat_minor": 0,
  "metadata": {
    "colab": {
      "name": "Normal_Equation(Polynomial_Regression_Regularized)",
      "provenance": [],
      "collapsed_sections": []
    },
    "kernelspec": {
      "name": "python3",
      "display_name": "Python 3"
    }
  },
  "cells": [
    {
      "cell_type": "markdown",
      "metadata": {
        "id": "TSZeQrFs11vP",
        "colab_type": "text"
      },
      "source": [
        "UNIVARIATE DATASET:\n",
        "\n",
        "    X       Y\n",
        "\n",
        "    0      0.2\n",
        "\n",
        "    0.5    0.78\n",
        "\n",
        "    1      0.89\n",
        "\n",
        "    1.5    1.2\n",
        "\n",
        "    2      2.2\n",
        "\n",
        "    2.5    2.5\n",
        "\n",
        "    3      2.789\n",
        "\n",
        "    3.5    4.3\n"
      ]
    },
    {
      "cell_type": "code",
      "metadata": {
        "id": "DSrj7NUSo8L4",
        "colab_type": "code",
        "colab": {}
      },
      "source": [
        "import numpy as np, pandas as pd \n",
        "import matplotlib.pyplot as plt\n",
        "#import dataset manually\n",
        "x_data=pd.DataFrame(np.array([0,0.5,1,1.5,2,2.5,3,3.5]))\n",
        "y_data=pd.DataFrame(np.array([ 0.2, 0.78,  0.89, 1.2, 2.2, 2.5, 2.789,4.3]))"
      ],
      "execution_count": null,
      "outputs": []
    },
    {
      "cell_type": "code",
      "metadata": {
        "id": "kVXRoU_RqENC",
        "colab_type": "code",
        "colab": {
          "base_uri": "https://localhost:8080/",
          "height": 316
        },
        "outputId": "4acae5bf-ab3e-4672-8f7e-0f5ba4b567a8"
      },
      "source": [
        " def polynomial_features(x_data,degree=2):\n",
        "  x_features = x_data \n",
        "  m = x_features.shape[0]\n",
        "  n = x_features.shape[1]\n",
        "  ones = np.ones(m)\n",
        "  col_count = n\n",
        "  for cols in x_features.columns:\n",
        "   for i in range(1,degree+1):\n",
        "    x_features[col_count] = x_features[cols]**(i+1)\n",
        "    col_count +=1\n",
        "  x_features.insert(0,'ones',ones)\n",
        "  return x_features\n",
        "X_data=pd.DataFrame(polynomial_features(x_data,4))\n",
        "X_data"
      ],
      "execution_count": null,
      "outputs": [
        {
          "output_type": "execute_result",
          "data": {
            "text/html": [
              "<div>\n",
              "<style scoped>\n",
              "    .dataframe tbody tr th:only-of-type {\n",
              "        vertical-align: middle;\n",
              "    }\n",
              "\n",
              "    .dataframe tbody tr th {\n",
              "        vertical-align: top;\n",
              "    }\n",
              "\n",
              "    .dataframe thead th {\n",
              "        text-align: right;\n",
              "    }\n",
              "</style>\n",
              "<table border=\"1\" class=\"dataframe\">\n",
              "  <thead>\n",
              "    <tr style=\"text-align: right;\">\n",
              "      <th></th>\n",
              "      <th>ones</th>\n",
              "      <th>0</th>\n",
              "      <th>1</th>\n",
              "      <th>2</th>\n",
              "      <th>3</th>\n",
              "      <th>4</th>\n",
              "    </tr>\n",
              "  </thead>\n",
              "  <tbody>\n",
              "    <tr>\n",
              "      <th>0</th>\n",
              "      <td>1.0</td>\n",
              "      <td>0.0</td>\n",
              "      <td>0.00</td>\n",
              "      <td>0.000</td>\n",
              "      <td>0.0000</td>\n",
              "      <td>0.00000</td>\n",
              "    </tr>\n",
              "    <tr>\n",
              "      <th>1</th>\n",
              "      <td>1.0</td>\n",
              "      <td>0.5</td>\n",
              "      <td>0.25</td>\n",
              "      <td>0.125</td>\n",
              "      <td>0.0625</td>\n",
              "      <td>0.03125</td>\n",
              "    </tr>\n",
              "    <tr>\n",
              "      <th>2</th>\n",
              "      <td>1.0</td>\n",
              "      <td>1.0</td>\n",
              "      <td>1.00</td>\n",
              "      <td>1.000</td>\n",
              "      <td>1.0000</td>\n",
              "      <td>1.00000</td>\n",
              "    </tr>\n",
              "    <tr>\n",
              "      <th>3</th>\n",
              "      <td>1.0</td>\n",
              "      <td>1.5</td>\n",
              "      <td>2.25</td>\n",
              "      <td>3.375</td>\n",
              "      <td>5.0625</td>\n",
              "      <td>7.59375</td>\n",
              "    </tr>\n",
              "    <tr>\n",
              "      <th>4</th>\n",
              "      <td>1.0</td>\n",
              "      <td>2.0</td>\n",
              "      <td>4.00</td>\n",
              "      <td>8.000</td>\n",
              "      <td>16.0000</td>\n",
              "      <td>32.00000</td>\n",
              "    </tr>\n",
              "    <tr>\n",
              "      <th>5</th>\n",
              "      <td>1.0</td>\n",
              "      <td>2.5</td>\n",
              "      <td>6.25</td>\n",
              "      <td>15.625</td>\n",
              "      <td>39.0625</td>\n",
              "      <td>97.65625</td>\n",
              "    </tr>\n",
              "    <tr>\n",
              "      <th>6</th>\n",
              "      <td>1.0</td>\n",
              "      <td>3.0</td>\n",
              "      <td>9.00</td>\n",
              "      <td>27.000</td>\n",
              "      <td>81.0000</td>\n",
              "      <td>243.00000</td>\n",
              "    </tr>\n",
              "    <tr>\n",
              "      <th>7</th>\n",
              "      <td>1.0</td>\n",
              "      <td>3.5</td>\n",
              "      <td>12.25</td>\n",
              "      <td>42.875</td>\n",
              "      <td>150.0625</td>\n",
              "      <td>525.21875</td>\n",
              "    </tr>\n",
              "  </tbody>\n",
              "</table>\n",
              "</div>"
            ],
            "text/plain": [
              "   ones    0      1       2         3          4\n",
              "0   1.0  0.0   0.00   0.000    0.0000    0.00000\n",
              "1   1.0  0.5   0.25   0.125    0.0625    0.03125\n",
              "2   1.0  1.0   1.00   1.000    1.0000    1.00000\n",
              "3   1.0  1.5   2.25   3.375    5.0625    7.59375\n",
              "4   1.0  2.0   4.00   8.000   16.0000   32.00000\n",
              "5   1.0  2.5   6.25  15.625   39.0625   97.65625\n",
              "6   1.0  3.0   9.00  27.000   81.0000  243.00000\n",
              "7   1.0  3.5  12.25  42.875  150.0625  525.21875"
            ]
          },
          "metadata": {
            "tags": []
          },
          "execution_count": 54
        }
      ]
    },
    {
      "cell_type": "code",
      "metadata": {
        "id": "Hq2S2AdP4XPd",
        "colab_type": "code",
        "colab": {}
      },
      "source": [
        "def polynomial_regression(x_features,y_response,lambda_val):\n",
        "  L = pd.DataFrame(lambda_val * np.identity(x_features.shape[1]))\n",
        "  Xsq = x_features.T.dot(x_features)\n",
        "  # Normal equation is inv(X'X + lambda*L) * X'Y\n",
        "  # the regulation is usually not done on theta 0 and the first element of it is set to 0 \n",
        "  # but here it affects the score hence theta0 is regularised too\n",
        "  theta = np.linalg.pinv(Xsq.values + L.values).dot(x_features.T.dot(y_response))\n",
        "  return theta\n",
        "res=polynomial_regression(x_data, y_data,3)"
      ],
      "execution_count": null,
      "outputs": []
    },
    {
      "cell_type": "code",
      "metadata": {
        "id": "oQ-PQ8Dzkixb",
        "colab_type": "code",
        "colab": {
          "base_uri": "https://localhost:8080/",
          "height": 228
        },
        "outputId": "fc0c0ee0-25d1-4c14-ae36-177fd9247bd3"
      },
      "source": [
        "Yp = X_data.dot(res)\n",
        "plt.plot(np.arange(Yp.shape[0]), Yp,color='b')\n",
        "plt.scatter(np.arange(Yp.shape[0]), y_data,color='r')\n",
        "plt.xlabel(\"Iterations\")\n",
        "plt.ylabel(\"Residuals\")\n",
        "plt.show()"
      ],
      "execution_count": null,
      "outputs": [
        {
          "output_type": "display_data",
          "data": {
            "image/png": "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\n",
            "text/plain": [
              "<Figure size 432x288 with 1 Axes>"
            ]
          },
          "metadata": {
            "tags": [],
            "needs_background": "light"
          }
        }
      ]
    },
    
