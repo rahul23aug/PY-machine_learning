{
  "nbformat": 4,
  "nbformat_minor": 0,
  "metadata": {
    "colab": {
      "name": "Gradient_Descent(Logistic_Regression)",
      "provenance": [],
      "collapsed_sections": []
    },
    "kernelspec": {
      "name": "python3",
      "display_name": "Python 3"
    }
  },
  "cells": [
    {
      "cell_type": "code",
      "metadata": {
        "id": "sD-0_g95hAlZ",
        "colab_type": "code",
        "colab": {}
      },
      "source": [
        "import numpy as np, pandas as pd\n",
        "import matplotlib.pyplot as plt\n",
        "from sklearn import model_selection"
      ],
      "execution_count": null,
      "outputs": []
    },
    {
      "cell_type": "code",
      "metadata": {
        "id": "jxrAhPY8jD2N",
        "colab_type": "code",
        "colab": {}
      },
      "source": [
        "raw_dataset=pd.read_excel('/content/drive/My Drive/Colab Notebooks/pima-indians-diabetes.xlsx')\n",
        "raw_dataset.columns=['Number', 'Plasma glucose concentration', 'Diastolic blood pressure (mm Hg)','Triceps skin fold thickness (mm)', '2-Hour serum insulin (mu U/ml)', 'Body mass index', 'Diabetes pedigree function',\n",
        "'Age',  'Positive']"
      ],
      "execution_count": null,
      "outputs": []
    },
    {
      "cell_type": "code",
      "metadata": {
        "id": "iEE21fhMUC2p",
        "colab_type": "code",
        "colab": {
          "base_uri": "https://localhost:8080/",
          "height": 208
        },
        "outputId": "8154acb1-7c54-4840-bfe8-c64c5e4f36d8"
      },
      "source": [
        "raw_dataset[raw_dataset.columns].isna().sum()"
      ],
      "execution_count": null,
      "outputs": [
        {
          "output_type": "execute_result",
          "data": {
            "text/plain": [
              "Number                                0\n",
              "Plasma glucose concentration          0\n",
              "Diastolic blood pressure (mm Hg)      0\n",
              "Triceps skin fold thickness (mm)      0\n",
              "2-Hour serum insulin (mu U/ml)        0\n",
              "Body mass index                       0\n",
              "Diabetes pedigree function            0\n",
              "Age                                   0\n",
              "Positive                            323\n",
              "dtype: int64"
            ]
          },
          "metadata": {
            "tags": []
          },
          "execution_count": 3
        }
      ]
    },
    {
      "cell_type": "code",
      "metadata": {
        "id": "GJFV_KSCUThM",
        "colab_type": "code",
        "colab": {
          "base_uri": "https://localhost:8080/",
          "height": 506
        },
        "outputId": "fc06d00f-283a-41ce-db02-ff3ca6973703"
      },
      "source": [
        "raw_dataset=raw_dataset.dropna()\n",
        "raw_dataset"
      ],
      "execution_count": null,
      "outputs": [
        {
          "output_type": "execute_result",
          "data": {
            "text/html": [
              "<div>\n",
              "<style scoped>\n",
              "    .dataframe tbody tr th:only-of-type {\n",
              "        vertical-align: middle;\n",
              "    }\n",
              "\n",
              "    .dataframe tbody tr th {\n",
              "        vertical-align: top;\n",
              "    }\n",
              "\n",
              "    .dataframe thead th {\n",
              "        text-align: right;\n",
              "    }\n",
              "</style>\n",
              "<table border=\"1\" class=\"dataframe\">\n",
              "  <thead>\n",
              "    <tr style=\"text-align: right;\">\n",
              "      <th></th>\n",
              "      <th>Number</th>\n",
              "      <th>Plasma glucose concentration</th>\n",
              "      <th>Diastolic blood pressure (mm Hg)</th>\n",
              "      <th>Triceps skin fold thickness (mm)</th>\n",
              "      <th>2-Hour serum insulin (mu U/ml)</th>\n",
              "      <th>Body mass index</th>\n",
              "      <th>Diabetes pedigree function</th>\n",
              "      <th>Age</th>\n",
              "      <th>Positive</th>\n",
              "    </tr>\n",
              "  </thead>\n",
              "  <tbody>\n",
              "    <tr>\n",
              "      <th>0</th>\n",
              "      <td>1</td>\n",
              "      <td>85</td>\n",
              "      <td>66</td>\n",
              "      <td>29</td>\n",
              "      <td>0.0</td>\n",
              "      <td>26.6</td>\n",
              "      <td>0.351</td>\n",
              "      <td>31</td>\n",
              "      <td>0.0</td>\n",
              "    </tr>\n",
              "    <tr>\n",
              "      <th>1</th>\n",
              "      <td>8</td>\n",
              "      <td>183</td>\n",
              "      <td>64</td>\n",
              "      <td>0</td>\n",
              "      <td>0.0</td>\n",
              "      <td>23.3</td>\n",
              "      <td>0.672</td>\n",
              "      <td>32</td>\n",
              "      <td>1.0</td>\n",
              "    </tr>\n",
              "    <tr>\n",
              "      <th>2</th>\n",
              "      <td>1</td>\n",
              "      <td>89</td>\n",
              "      <td>66</td>\n",
              "      <td>23</td>\n",
              "      <td>94.0</td>\n",
              "      <td>28.1</td>\n",
              "      <td>0.167</td>\n",
              "      <td>21</td>\n",
              "      <td>0.0</td>\n",
              "    </tr>\n",
              "    <tr>\n",
              "      <th>3</th>\n",
              "      <td>0</td>\n",
              "      <td>137</td>\n",
              "      <td>40</td>\n",
              "      <td>35</td>\n",
              "      <td>168.0</td>\n",
              "      <td>43.1</td>\n",
              "      <td>2.288</td>\n",
              "      <td>33</td>\n",
              "      <td>1.0</td>\n",
              "    </tr>\n",
              "    <tr>\n",
              "      <th>4</th>\n",
              "      <td>5</td>\n",
              "      <td>116</td>\n",
              "      <td>74</td>\n",
              "      <td>0</td>\n",
              "      <td>0.0</td>\n",
              "      <td>25.6</td>\n",
              "      <td>0.201</td>\n",
              "      <td>30</td>\n",
              "      <td>0.0</td>\n",
              "    </tr>\n",
              "    <tr>\n",
              "      <th>...</th>\n",
              "      <td>...</td>\n",
              "      <td>...</td>\n",
              "      <td>...</td>\n",
              "      <td>...</td>\n",
              "      <td>...</td>\n",
              "      <td>...</td>\n",
              "      <td>...</td>\n",
              "      <td>...</td>\n",
              "      <td>...</td>\n",
              "    </tr>\n",
              "    <tr>\n",
              "      <th>439</th>\n",
              "      <td>0</td>\n",
              "      <td>189</td>\n",
              "      <td>104</td>\n",
              "      <td>25</td>\n",
              "      <td>0.0</td>\n",
              "      <td>34.3</td>\n",
              "      <td>0.435</td>\n",
              "      <td>41</td>\n",
              "      <td>1.0</td>\n",
              "    </tr>\n",
              "    <tr>\n",
              "      <th>440</th>\n",
              "      <td>2</td>\n",
              "      <td>83</td>\n",
              "      <td>66</td>\n",
              "      <td>23</td>\n",
              "      <td>50.0</td>\n",
              "      <td>32.2</td>\n",
              "      <td>0.497</td>\n",
              "      <td>22</td>\n",
              "      <td>0.0</td>\n",
              "    </tr>\n",
              "    <tr>\n",
              "      <th>441</th>\n",
              "      <td>4</td>\n",
              "      <td>117</td>\n",
              "      <td>64</td>\n",
              "      <td>27</td>\n",
              "      <td>120.0</td>\n",
              "      <td>33.2</td>\n",
              "      <td>0.230</td>\n",
              "      <td>24</td>\n",
              "      <td>0.0</td>\n",
              "    </tr>\n",
              "    <tr>\n",
              "      <th>442</th>\n",
              "      <td>8</td>\n",
              "      <td>108</td>\n",
              "      <td>70</td>\n",
              "      <td>0</td>\n",
              "      <td>0.0</td>\n",
              "      <td>30.5</td>\n",
              "      <td>0.955</td>\n",
              "      <td>33</td>\n",
              "      <td>1.0</td>\n",
              "    </tr>\n",
              "    <tr>\n",
              "      <th>443</th>\n",
              "      <td>4</td>\n",
              "      <td>117</td>\n",
              "      <td>62</td>\n",
              "      <td>12</td>\n",
              "      <td>0.0</td>\n",
              "      <td>29.7</td>\n",
              "      <td>0.380</td>\n",
              "      <td>30</td>\n",
              "      <td>1.0</td>\n",
              "    </tr>\n",
              "  </tbody>\n",
              "</table>\n",
              "<p>444 rows × 9 columns</p>\n",
              "</div>"
            ],
            "text/plain": [
              "     Number  Plasma glucose concentration  ...  Age  Positive\n",
              "0         1                            85  ...   31       0.0\n",
              "1         8                           183  ...   32       1.0\n",
              "2         1                            89  ...   21       0.0\n",
              "3         0                           137  ...   33       1.0\n",
              "4         5                           116  ...   30       0.0\n",
              "..      ...                           ...  ...  ...       ...\n",
              "439       0                           189  ...   41       1.0\n",
              "440       2                            83  ...   22       0.0\n",
              "441       4                           117  ...   24       0.0\n",
              "442       8                           108  ...   33       1.0\n",
              "443       4                           117  ...   30       1.0\n",
              "\n",
              "[444 rows x 9 columns]"
            ]
          },
          "metadata": {
            "tags": []
          },
          "execution_count": 4
        }
      ]
    },
    {
      "cell_type": "code",
      "metadata": {
        "id": "jbYc2Of4_1E9",
        "colab_type": "code",
        "colab": {}
      },
      "source": [
        "def Mean_Normalization(X): \n",
        " for cols in X.columns:  X[cols] = (X[cols] - X[cols].mean())/X[cols].std()\n",
        " return X"
      ],
      "execution_count": null,
      "outputs": []
    },
    {
      "cell_type": "code",
      "metadata": {
        "id": "o4nrXV3EhUpF",
        "colab_type": "code",
        "colab": {
          "base_uri": "https://localhost:8080/",
          "height": 51
        },
        "outputId": "f8f68b98-ac19-4831-85f8-c1c8fc2e50dd"
      },
      "source": [
        "Y = raw_dataset.iloc[:,-1].values\n",
        "#Check for biases in data\n",
        "print('Positive class count',len(Y[Y == 1]))\n",
        "print('Negative class count',len(Y[Y == 0]))"
      ],
      "execution_count": null,
      "outputs": [
        {
          "output_type": "stream",
          "text": [
            "Positive class count 169\n",
            "Negative class count 275\n"
          ],
          "name": "stdout"
        }
      ]
    },
    {
      "cell_type": "markdown",
      "metadata": {
        "id": "WxJsI6A7LZla",
        "colab_type": "text"
      },
      "source": [
        "The dataset is biased towards the negative class. Balancing the dataset now"
      ]
    },
    {
      "cell_type": "code",
      "metadata": {
        "id": "czhcF8IocBq1",
        "colab_type": "code",
        "colab": {}
      },
      "source": [
        "XDS = raw_dataset[raw_dataset['Positive']==1]\n",
        "DS = raw_dataset[raw_dataset['Positive']==0]\n",
        "DS1 = DS.head(169)\n",
        "#Use DS2 as test dataset (optional)\n",
        "DS2 = DS.tail(106)\n",
        "XDS=XDS.append(DS1)\n",
        "Y = XDS[XDS.columns[-1]]\n",
        "XDS=XDS[XDS.columns[:-1]]\n",
        "scaled = Mean_Normalization(XDS)\n",
        "ones = np.ones(XDS.shape[0]).reshape(XDS.shape[0],1)\n",
        "scaled.insert(0,'ones',ones)\n",
        "X = scaled.iloc[:,:]\n",
        "#Split data\n",
        "X_train, X_test, Y_train, Y_test = model_selection.train_test_split(X.values,Y.values,random_state=2,stratify=Y)"
      ],
      "execution_count": null,
      "outputs": []
    },
    {
      "cell_type": "code",
      "metadata": {
        "id": "Nn2Vs96sEwod",
        "colab_type": "code",
        "colab": {}
      },
      "source": [
        "# clean the index values\n",
        "X_train=pd.DataFrame(X_train)\n",
        "Y_train=pd.DataFrame(Y_train)\n",
        "X_test=pd.DataFrame(X_test)\n",
        "Y_test=pd.DataFrame(Y_test)"
      ],
      "execution_count": null,
      "outputs": []
    },
    {
      "cell_type": "code",
      "metadata": {
        "id": "3Y2YtIhr1dpS",
        "colab_type": "code",
        "colab": {}
      },
      "source": [
        "def Logistic_Regression(X_train, Y_train, alpha=0.001, iter=100):\n",
        " theta = np.ones(X_train.shape[1])\n",
        " theta=theta.reshape(X_train.shape[1],1)\n",
        " Rl=[]\n",
        " m= X_train.shape[0]\n",
        " for iteration in range(iter):\n",
        "  ht= (X_train.dot(theta))\n",
        "  Yp =np.array(1/(1+np.exp(-ht)))\n",
        "  Yp=Yp.reshape(Yp.shape[0],1)\n",
        "  err= Yp- Y_train.values\n",
        "  J= -(Y_train.values * np.log(Yp)) -((1-Y_train.values)*np.log(1-Yp))\n",
        "  Rl.append(J.sum())\n",
        "  theta= theta - ((alpha*(X_train.T.dot(err)))/m).values\n",
        " return theta, Rl, iter\n",
        "params=Logistic_Regression(X_train, Y_train,2,25)"
      ],
      "execution_count": null,
      "outputs": []
    },
    {
      "cell_type": "code",
      "metadata": {
        "id": "XodSBCp-enWT",
        "colab_type": "code",
        "colab": {
          "base_uri": "https://localhost:8080/",
          "height": 232
        },
        "outputId": "159eeb2c-0b9c-4e23-d9de-ab67cfc98b12"
      },
      "source": [
        "plt.title('Gradient Descent')\n",
        "plt.xlabel('Iterations')\n",
        "plt.ylabel('Cost')\n",
        "X= np.arange(params[2])\n",
        "plt.plot(X,params[1])\n",
        "plt.show()"
      ],
      "execution_count": null,
      "outputs": [
        {
          "output_type": "display_data",
          "data": {
            "image/png": "[encoded data removed]",
            "text/plain": [
              "<Figure size 432x288 with 1 Axes>"
            ]
          },
          "metadata": {
            "tags": [],
            "needs_background": "light"
          }
        }
      ]
    },
    {
      "cell_type": "code",
      "metadata": {
        "id": "40s1G0GDeNL2",
        "colab_type": "code",
        "colab": {}
      },
      "source": [
        "def predict(X=X_train):\n",
        " theta = params[0]\n",
        " \n",
        " ht= (X.dot(theta))\n",
        " Y =np.array(1/(1+np.exp(-ht)))\n",
        " return Y"
      ],
      "execution_count": null,
      "outputs": []
    },
    {
      "cell_type": "code",
      "metadata": {
        "id": "683OLE_ZfVDz",
        "colab_type": "code",
        "colab": {
          "base_uri": "https://localhost:8080/",
          "height": 219
        },
        "outputId": "2be468f3-ef3c-4168-ab97-dbb94433a98e"
      },
      "source": [
        "# Predict using the model\n",
        "X_t = X_test\n",
        "Y_t = Y_test\n",
        "Yp = predict(X_t)\n",
        "#print(Yp)\n",
        "# set threshold here\n",
        "Yp[Yp>0.5] = 1\n",
        "Yp[Yp<=0.5] = 0\n",
        "X_terms = np.arange(X_t.shape[0])\n",
        "plt.plot(X_terms, Yp)\n",
        "plt.plot(X_terms, Y_t)\n",
        "plt.show()"
      ],
      "execution_count": null,
      "outputs": [
        {
          "output_type": "display_data",
          "data": {
            "image/png": "[encoded data removed]",
            "text/plain": [
              "<Figure size 432x288 with 1 Axes>"
            ]
          },
          "metadata": {
            "tags": [],
            "needs_background": "light"
          }
        }
      ]
    },
    {
      "cell_type": "code",
      "metadata": {
        "id": "X4HgyzAlZuF0",
        "colab_type": "code",
        "colab": {}
      },
      "source": [
        "Predictions = pd.DataFrame(Y_t)\n",
        "Predictions.insert(1,1,Yp)\n",
        "Predictions.columns=['Actual','Predicted']\n",
        "# Metric calculations \n",
        "TP=Predictions[(Predictions['Actual'] == 1 ) & (Predictions['Predicted'] == 1)].count()[0]\n",
        "TN=Predictions[(Predictions['Actual'] == 0) & (Predictions['Predicted'] == 0)].count()[0]\n",
        "FP=Predictions[(Predictions['Actual'] == 0 ) & (Predictions['Predicted'] == 1)].count()[0]\n",
        "FN=Predictions[(Predictions['Actual'] == 1 ) & (Predictions['Predicted'] == 0)].count()[0]\n",
        "# Create the confusion Matrix \n",
        "confusion = pd.DataFrame(np.array([[TP, FP],[FN,TN]]))\n",
        "confusion.columns = ['Actual_Positives','Actual_Negatives']\n",
        "confusion.index = ['Predicted_Positives','Predicted_Negatives']\n",
        "Predicted_Positive= TP + FP\n",
        "Predicted_Negative= TN + FN\n",
        "Actual_Positive= TP + FN\n",
        "Actual_Negative= TN + FP\n",
        "Accuracy= (TP + TN)/(Actual_Positive + Actual_Negative)\n",
        "Precision= TP / Predicted_Positive\n",
        "#Recall or Sensitivity\n",
        "Recall = TP / Actual_Positive\n",
        "Specificity = TN / Actual_Negative\n",
        "F1_Score = (2*Precision * Recall) / (Precision + Recall)"
      ],
      "execution_count": null,
      "outputs": []
    },
    {
      "cell_type": "code",
      "metadata": {
        "id": "ndFRIdpmaBuP",
        "colab_type": "code",
        "colab": {
          "base_uri": "https://localhost:8080/",
          "height": 88
        },
        "outputId": "8947ce16-5f38-4ada-d24e-d1a1d65b0a40"
      },
      "source": [
        " a = np.array([[TP, FP],[FN,TN]])\n",
        "print(confusion)"
      ],
      "execution_count": null,
      "outputs": [
        {
          "output_type": "stream",
          "text": [
            "                     Actual_Positives  Actual_Negatives\n",
            "Predicted_Positives                33                13\n",
            "Predicted_Negatives                 9                30\n"
          ],
          "name": "stdout"
        }
      ]
    },
    {
      "cell_type": "code",
      "metadata": {
        "id": "-T0-OEeDa69l",
        "colab_type": "code",
        "colab": {
          "base_uri": "https://localhost:8080/",
          "height": 102
        },
        "outputId": "d37210f3-34b0-4bde-e347-e9abc96cdaaf"
      },
      "source": [
        " print('Accuracy: ',Accuracy)\n",
        "print('Precision: ', Precision)\n",
        "print('Recall: ',Recall)\n",
        "print('Specificity: ', Specificity)\n",
        "print('F1_score: %.2F'%F1_Score)"
      ],
      "execution_count": null,
      "outputs": [
        {
          "output_type": "stream",
          "text": [
            "Accuracy:  0.7411764705882353\n",
            "Precision:  0.717391304347826\n",
            "Recall:  0.7857142857142857\n",
            "Specificity:  0.6976744186046512\n",
            "F1_score: 0.75\n"
          ],
          "name": "stdout"
        }
      ]
    }
  ]
}