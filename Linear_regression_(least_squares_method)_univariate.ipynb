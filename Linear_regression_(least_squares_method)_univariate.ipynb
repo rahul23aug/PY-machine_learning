{
  "nbformat": 4,
  "nbformat_minor": 0,
  "metadata": {
    "colab": {
      "name": "Linear_regression_(least squares method)_univariate.ipynb",
      "provenance": []
    },
    "kernelspec": {
      "name": "python3",
      "display_name": "Python 3"
    }
  },
  "cells": [
    {
      "cell_type": "code",
      "metadata": {
        "id": "64kqb8H4GBg3",
        "colab_type": "code",
        "colab": {}
      },
      "source": [
        "import numpy as np, pandas as pd\n",
        "import matplotlib.pyplot as plt"
      ],
      "execution_count": null,
      "outputs": []
    },
    {
      "cell_type": "code",
      "metadata": {
        "id": "6zEFY59tH8YI",
        "colab_type": "code",
        "colab": {}
      },
      "source": [
        "x=np.array([0,0.5,1,1.5,2,2.5,3,3.5])\n",
        "y=np.array([0.2,0.78,.89,1.2,2.2,2.5,2.789,4.3])"
      ],
      "execution_count": null,
      "outputs": []
    },
    {
      "cell_type": "markdown",
      "metadata": {
        "id": "uMjGdVwrL7JN",
        "colab_type": "text"
      },
      "source": [
        "Use Least squares method to get slope and intercept values"
      ]
    },
    {
      "cell_type": "code",
      "metadata": {
        "id": "Q8QnHKGJMJ3b",
        "colab_type": "code",
        "colab": {}
      },
      "source": [
        "x_mean = x.mean()\n",
        "y_mean = y.mean()\n",
        "xvar = (x - x_mean)\n",
        " \n",
        "yvar = (y - y_mean)\n",
        "m = (xvar*yvar).sum()/(xvar**2).sum()\n",
        "c=y_mean - m * x_mean\n",
        "yp= m * x + c"
      ],
      "execution_count": null,
      "outputs": []
    },
    {
      "cell_type": "code",
      "metadata": {
        "id": "IYwVx6WDSGKE",
        "colab_type": "code",
        "colab": {
          "base_uri": "https://localhost:8080/",
          "height": 225
        },
        "outputId": "25c51730-644c-4109-e75b-8a468b821f06"
      },
      "source": [
        "plt.plot(x,yp)\n",
        "plt.scatter(x,y, color='r')\n",
        "plt.show()"
      ],
      "execution_count": null,
      "outputs": [
        {
          "output_type": "display_data",
          "data": {
            "image/png": "[encoded data removed]",
            "text/plain": [
              "<Figure size 432x288 with 1 Axes>"
            ]
          },
          "metadata": {
            "tags": [],
            "needs_background": "light"
          }
        }
      ]
    },
    {
      "cell_type": "markdown",
      "metadata": {
        "id": "tE8qah97vESh",
        "colab_type": "text"
      },
      "source": [
        "Hypothesis line is :"
      ]
    },
    {
      "cell_type": "code",
      "metadata": {
        "id": "46i_JE1LvDRz",
        "colab_type": "code",
        "colab": {
          "base_uri": "https://localhost:8080/",
          "height": 54
        },
        "outputId": "1d5280ed-eb2e-4e55-d1ed-7172622b6b68"
      },
      "source": [
        "print(\"Y= {}X + {}\".format(m,c))"
      ],
      "execution_count": null,
      "outputs": [
        {
          "output_type": "stream",
          "text": [
            "Y= 1.0613095238095238X + 8.333333333343518e-05\n"
          ],
          "name": "stdout"
        }
      ]
    },
    {
      "cell_type": "markdown",
      "metadata": {
        "id": "SkLU-RWLvZnZ",
        "colab_type": "text"
      },
      "source": [
        " Model information"
      ]
    },
    {
      "cell_type": "code",
      "metadata": {
        "id": "qHvzNEzfvewL",
        "colab_type": "code",
        "colab": {
          "base_uri": "https://localhost:8080/",
          "height": 85
        },
        "outputId": "8b50160a-cc72-443f-9abc-30fe177857ea"
      },
      "source": [
        "MSE=(yp-y)**2 /(x.shape[0])\n",
        "print (\"MSE: %.5f\"%MSE.sum())\n",
        "Rsq= ((yp-y_mean)**2).sum()/((y-y_mean)**2).sum()\n",
        "print(\"R2: %.2f\"%Rsq)\n",
        "print(\"m: %f\"%m)\n",
        "print(\"c: %f\"%c)"
      ],
      "execution_count": null,
      "outputs": [
        {
          "output_type": "stream",
          "text": [
            "MSE: 0.10166\n",
            "R2: 0.94\n",
            "m: 1.061310\n",
            "c: 0.000083\n"
          ],
          "name": "stdout"
        }
      ]
    },
    {
      "cell_type": "markdown",
      "metadata": {
        "id": "zulNBd981JJM",
        "colab_type": "text"
      },
      "source": [
        "Predict using the model"
      ]
    },
    {
      "cell_type": "code",
      "metadata": {
        "id": "nc4whbOC09DX",
        "colab_type": "code",
        "colab": {}
      },
      "source": [
        "xi=0.7\n",
        "yt= m*xi + c\n",
        "print(\"predicted value: {}\".format(yt))"
      ],
      "execution_count": null,
      "outputs": []
    }
  ]
}