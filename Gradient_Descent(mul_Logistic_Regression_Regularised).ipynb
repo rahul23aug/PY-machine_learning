{
  "nbformat": 4,
  "nbformat_minor": 0,
  "metadata": {
    "colab": {
      "name": "Gradient_Descent(mul_Logistic_Regression_Regularised)",
      "provenance": [],
      "collapsed_sections": []
    },
    "kernelspec": {
      "name": "python3",
      "display_name": "Python 3"
    }
  },
  "cells": [
    {
      "cell_type": "code",
      "metadata": {
        "id": "sD-0_g95hAlZ",
        "colab_type": "code",
        "colab": {}
      },
      "source": [
        "import numpy as np, pandas as pd\n",
        "import matplotlib.pyplot as plt\n",
        "from sklearn import model_selection"
      ],
      "execution_count": null,
      "outputs": []
    },
    {
      "cell_type": "code",
      "metadata": {
        "id": "jxrAhPY8jD2N",
        "colab_type": "code",
        "colab": {}
      },
      "source": [
        "raw_dataset=pd.read_excel('/pima-indians-diabetes.xlsx')\n",
        "raw_dataset.columns=['Pregnancies', 'Plasma glucose concentration', 'Diastolic blood pressure (mm Hg)','Triceps skin fold thickness (mm)', '2-Hour serum insulin (mu U/ml)', 'Body mass index', 'Diabetes pedigree function',\n",
        "'Age',  'Positive']"
      ],
      "execution_count": null,
      "outputs": []
    },
    {
      "cell_type": "code",
      "metadata": {
        "id": "iEE21fhMUC2p",
        "colab_type": "code",
        "colab": {
          "base_uri": "https://localhost:8080/",
          "height": 208
        },
        "outputId": "5fb621ad-75b9-48cf-cdab-f6bc72a5d6d3"
      },
      "source": [
        "raw_dataset[raw_dataset.columns].isna().sum()"
      ],
      "execution_count": null,
      "outputs": [
        {
          "output_type": "execute_result",
          "data": {
            "text/plain": [
              "Pregnancies                                0\n",
              "Plasma glucose concentration          0\n",
              "Diastolic blood pressure (mm Hg)      0\n",
              "Triceps skin fold thickness (mm)      0\n",
              "2-Hour serum insulin (mu U/ml)        0\n",
              "Body mass index                       0\n",
              "Diabetes pedigree function            0\n",
              "Age                                   0\n",
              "Positive                            323\n",
              "dtype: int64"
            ]
          },
          "metadata": {
            "tags": []
          },
          "execution_count": 246
        }
      ]
    },
    {
      "cell_type": "code",
      "metadata": {
        "id": "GJFV_KSCUThM",
        "colab_type": "code",
        "colab": {
          "base_uri": "https://localhost:8080/",
          "height": 506
        },
        "outputId": "b67078da-3f23-4ede-eecd-279b976fd7cf"
      },
      "source": [
        "raw_dataset=raw_dataset.dropna()\n",
        "raw_dataset"
      ],
      "execution_count": null,
      "outputs": [
        {
          "output_type": "execute_result",
          "data": {
            "text/html": [
              "<div>\n",
              "<style scoped>\n",
              "    .dataframe tbody tr th:only-of-type {\n",
              "        vertical-align: middle;\n",
              "    }\n",
              "\n",
              "    .dataframe tbody tr th {\n",
              "        vertical-align: top;\n",
              "    }\n",
              "\n",
              "    .dataframe thead th {\n",
              "        text-align: right;\n",
              "    }\n",
              "</style>\n",
              "<table border=\"1\" class=\"dataframe\">\n",
              "  <thead>\n",
              "    <tr style=\"text-align: right;\">\n",
              "      <th></th>\n",
              "      <th>Pregnancies</th>\n",
              "      <th>Plasma glucose concentration</th>\n",
              "      <th>Diastolic blood pressure (mm Hg)</th>\n",
              "      <th>Triceps skin fold thickness (mm)</th>\n",
              "      <th>2-Hour serum insulin (mu U/ml)</th>\n",
              "      <th>Body mass index</th>\n",
              "      <th>Diabetes pedigree function</th>\n",
              "      <th>Age</th>\n",
              "      <th>Positive</th>\n",
              "    </tr>\n",
              "  </thead>\n",
              "  <tbody>\n",
              "    <tr>\n",
              "      <th>0</th>\n",
              "      <td>1</td>\n",
              "      <td>85</td>\n",
              "      <td>66</td>\n",
              "      <td>29</td>\n",
              "      <td>0.0</td>\n",
              "      <td>26.6</td>\n",
              "      <td>0.351</td>\n",
              "      <td>31</td>\n",
              "      <td>0.0</td>\n",
              "    </tr>\n",
              "    <tr>\n",
              "      <th>1</th>\n",
              "      <td>8</td>\n",
              "      <td>183</td>\n",
              "      <td>64</td>\n",
              "      <td>0</td>\n",
              "      <td>0.0</td>\n",
              "      <td>23.3</td>\n",
              "      <td>0.672</td>\n",
              "      <td>32</td>\n",
              "      <td>1.0</td>\n",
              "    </tr>\n",
              "    <tr>\n",
              "      <th>2</th>\n",
              "      <td>1</td>\n",
              "      <td>89</td>\n",
              "      <td>66</td>\n",
              "      <td>23</td>\n",
              "      <td>94.0</td>\n",
              "      <td>28.1</td>\n",
              "      <td>0.167</td>\n",
              "      <td>21</td>\n",
              "      <td>0.0</td>\n",
              "    </tr>\n",
              "    <tr>\n",
              "      <th>3</th>\n",
              "      <td>0</td>\n",
              "      <td>137</td>\n",
              "      <td>40</td>\n",
              "      <td>35</td>\n",
              "      <td>168.0</td>\n",
              "      <td>43.1</td>\n",
              "      <td>2.288</td>\n",
              "      <td>33</td>\n",
              "      <td>1.0</td>\n",
              "    </tr>\n",
              "    <tr>\n",
              "      <th>4</th>\n",
              "      <td>5</td>\n",
              "      <td>116</td>\n",
              "      <td>74</td>\n",
              "      <td>0</td>\n",
              "      <td>0.0</td>\n",
              "      <td>25.6</td>\n",
              "      <td>0.201</td>\n",
              "      <td>30</td>\n",
              "      <td>0.0</td>\n",
              "    </tr>\n",
              "    <tr>\n",
              "      <th>...</th>\n",
              "      <td>...</td>\n",
              "      <td>...</td>\n",
              "      <td>...</td>\n",
              "      <td>...</td>\n",
              "      <td>...</td>\n",
              "      <td>...</td>\n",
              "      <td>...</td>\n",
              "      <td>...</td>\n",
              "      <td>...</td>\n",
              "    </tr>\n",
              "    <tr>\n",
              "      <th>439</th>\n",
              "      <td>0</td>\n",
              "      <td>189</td>\n",
              "      <td>104</td>\n",
              "      <td>25</td>\n",
              "      <td>0.0</td>\n",
              "      <td>34.3</td>\n",
              "      <td>0.435</td>\n",
              "      <td>41</td>\n",
              "      <td>1.0</td>\n",
              "    </tr>\n",
              "    <tr>\n",
              "      <th>440</th>\n",
              "      <td>2</td>\n",
              "      <td>83</td>\n",
              "      <td>66</td>\n",
              "      <td>23</td>\n",
              "      <td>50.0</td>\n",
              "      <td>32.2</td>\n",
              "      <td>0.497</td>\n",
              "      <td>22</td>\n",
              "      <td>0.0</td>\n",
              "    </tr>\n",
              "    <tr>\n",
              "      <th>441</th>\n",
              "      <td>4</td>\n",
              "      <td>117</td>\n",
              "      <td>64</td>\n",
              "      <td>27</td>\n",
              "      <td>120.0</td>\n",
              "      <td>33.2</td>\n",
              "      <td>0.230</td>\n",
              "      <td>24</td>\n",
              "      <td>0.0</td>\n",
              "    </tr>\n",
              "    <tr>\n",
              "      <th>442</th>\n",
              "      <td>8</td>\n",
              "      <td>108</td>\n",
              "      <td>70</td>\n",
              "      <td>0</td>\n",
              "      <td>0.0</td>\n",
              "      <td>30.5</td>\n",
              "      <td>0.955</td>\n",
              "      <td>33</td>\n",
              "      <td>1.0</td>\n",
              "    </tr>\n",
              "    <tr>\n",
              "      <th>443</th>\n",
              "      <td>4</td>\n",
              "      <td>117</td>\n",
              "      <td>62</td>\n",
              "      <td>12</td>\n",
              "      <td>0.0</td>\n",
              "      <td>29.7</td>\n",
              "      <td>0.380</td>\n",
              "      <td>30</td>\n",
              "      <td>1.0</td>\n",
              "    </tr>\n",
              "  </tbody>\n",
              "</table>\n",
              "<p>444 rows × 9 columns</p>\n",
              "</div>"
            ],
            "text/plain": [
              "     Number  Plasma glucose concentration  ...  Age  Positive\n",
              "0         1                            85  ...   31       0.0\n",
              "1         8                           183  ...   32       1.0\n",
              "2         1                            89  ...   21       0.0\n",
              "3         0                           137  ...   33       1.0\n",
              "4         5                           116  ...   30       0.0\n",
              "..      ...                           ...  ...  ...       ...\n",
              "439       0                           189  ...   41       1.0\n",
              "440       2                            83  ...   22       0.0\n",
              "441       4                           117  ...   24       0.0\n",
              "442       8                           108  ...   33       1.0\n",
              "443       4                           117  ...   30       1.0\n",
              "\n",
              "[444 rows x 9 columns]"
            ]
          },
          "metadata": {
            "tags": []
          },
          "execution_count": 249
        }
      ]
    },
    {
      "cell_type": "code",
      "metadata": {
        "id": "jbYc2Of4_1E9",
        "colab_type": "code",
        "colab": {}
      },
      "source": [
        "def Mean_Normalization(X): \n",
        " for cols in X.columns:  X[cols] = (X[cols] - X[cols].mean())/X[cols].std()\n",
        " return X"
      ],
      "execution_count": null,
      "outputs": []
    },
    {
      "cell_type": "code",
      "metadata": {
        "id": "o4nrXV3EhUpF",
        "colab_type": "code",
        "colab": {
          "base_uri": "https://localhost:8080/",
          "height": 51
        },
        "outputId": "39fb2eab-41bf-44b0-960d-63d83248ef96"
      },
      "source": [
        "Y = raw_dataset.iloc[:,-1].values\n",
        "#Check for biases in data\n",
        "print('Positive class count',len(Y[Y == 1]))\n",
        "print('Negative class count',len(Y[Y == 0]))"
      ],
      "execution_count": null,
      "outputs": [
        {
          "output_type": "stream",
          "text": [
            "Positive class count 169\n",
            "Negative class count 275\n"
          ],
          "name": "stdout"
        }
      ]
    },
    {
      "cell_type": "markdown",
      "metadata": {
        "id": "WxJsI6A7LZla",
        "colab_type": "text"
      },
      "source": [
        "The dataset is biased towards the negative class. Balancing the dataset now"
      ]
    },
    {
      "cell_type": "code",
      "metadata": {
        "id": "czhcF8IocBq1",
        "colab_type": "code",
        "colab": {}
      },
      "source": [
        "XDS = raw_dataset[raw_dataset['Positive']==1]\n",
        "DS = raw_dataset[raw_dataset['Positive']==0]\n",
        "DS1 = DS.head(169)\n",
        "#Use DS2 as test dataset (optional)\n",
        "DS2 = DS.tail(106)\n",
        "XDS=XDS.append(DS1)\n",
        "Y = XDS[XDS.columns[-1]]\n",
        "XDS=XDS[XDS.columns[:-1]]\n",
        "scaled = Mean_Normalization(XDS)\n",
        "ones = np.ones(XDS.shape[0]).reshape(XDS.shape[0],1)\n",
        "scaled.insert(0,'ones',ones)\n",
        "X = scaled.iloc[:,:]\n",
        "#Split data\n",
        "X_train, X_test, Y_train, Y_test = model_selection.train_test_split(X.values,Y.values,random_state=5,stratify=Y)"
      ],
      "execution_count": null,
      "outputs": []
    },
    {
      "cell_type": "code",
      "metadata": {
        "id": "Nn2Vs96sEwod",
        "colab_type": "code",
        "colab": {
          "base_uri": "https://localhost:8080/",
          "height": 34
        },
        "outputId": "d4f86f8b-710f-40d7-f8cf-dc3c588c69ea"
      },
      "source": [
        "# clean the index values\n",
        "X_train=pd.DataFrame(X_train)\n",
        "Y_train=pd.DataFrame(Y_train)\n",
        "X_test=pd.DataFrame(X_test)\n",
        "Y_test=pd.DataFrame(Y_test)\n",
        "X_train.shape"
      ],
      "execution_count": null,
      "outputs": [
        {
          "output_type": "execute_result",
          "data": {
            "text/plain": [
              "(253, 9)"
            ]
          },
          "metadata": {
            "tags": []
          },
          "execution_count": 253
        }
      ]
    },
    {
      "cell_type": "markdown",
      "metadata": {
        "id": "byNpGZt_KzWG",
        "colab_type": "text"
      },
      "source": [
        "Before changing degree run cells from cell number 1 since this won't refresh the previous state (X references X_train)"
      ]
    },
    {
      "cell_type": "code",
      "metadata": {
        "id": "Me-tEJ7X2Rjs",
        "colab_type": "code",
        "colab": {
          "base_uri": "https://localhost:8080/",
          "height": 438
        },
        "outputId": "03c20b1c-df66-4f7a-9a89-45f6037498f6"
      },
      "source": [
        "def polynomial_transform(X,degree):\n",
        "  col_count = X.columns[-1] + 1\n",
        "  for column in X.columns[1:]:\n",
        "    for deg in range(1,degree):\n",
        "     X[col_count] = X[column]**(deg+1)\n",
        "     col_count += 1\n",
        "  return X\n",
        "#change degree here\n",
        "degree = 2\n",
        "polynomial_transform(X_train,degree)\n",
        "polynomial_transform(X_test,degree)"
      ],
      "execution_count": null,
      "outputs": [
        {
          "output_type": "execute_result",
          "data": {
            "text/html": [
              "<div>\n",
              "<style scoped>\n",
              "    .dataframe tbody tr th:only-of-type {\n",
              "        vertical-align: middle;\n",
              "    }\n",
              "\n",
              "    .dataframe tbody tr th {\n",
              "        vertical-align: top;\n",
              "    }\n",
              "\n",
              "    .dataframe thead th {\n",
              "        text-align: right;\n",
              "    }\n",
              "</style>\n",
              "<table border=\"1\" class=\"dataframe\">\n",
              "  <thead>\n",
              "    <tr style=\"text-align: right;\">\n",
              "      <th></th>\n",
              "      <th>0</th>\n",
              "      <th>1</th>\n",
              "      <th>2</th>\n",
              "      <th>3</th>\n",
              "      <th>4</th>\n",
              "      <th>5</th>\n",
              "      <th>6</th>\n",
              "      <th>7</th>\n",
              "      <th>8</th>\n",
              "      <th>9</th>\n",
              "      <th>10</th>\n",
              "      <th>11</th>\n",
              "      <th>12</th>\n",
              "      <th>13</th>\n",
              "      <th>14</th>\n",
              "      <th>15</th>\n",
              "      <th>16</th>\n",
              "    </tr>\n",
              "  </thead>\n",
              "  <tbody>\n",
              "    <tr>\n",
              "      <th>0</th>\n",
              "      <td>1.0</td>\n",
              "      <td>1.451753</td>\n",
              "      <td>1.183287</td>\n",
              "      <td>0.949960</td>\n",
              "      <td>-1.268358</td>\n",
              "      <td>-0.635438</td>\n",
              "      <td>-0.280344</td>\n",
              "      <td>-0.526352</td>\n",
              "      <td>1.421482</td>\n",
              "      <td>2.107586</td>\n",
              "      <td>1.400167</td>\n",
              "      <td>0.902424</td>\n",
              "      <td>1.608732</td>\n",
              "      <td>0.403782</td>\n",
              "      <td>0.078593</td>\n",
              "      <td>0.277046</td>\n",
              "      <td>2.020610</td>\n",
              "    </tr>\n",
              "    <tr>\n",
              "      <th>1</th>\n",
              "      <td>1.0</td>\n",
              "      <td>0.268649</td>\n",
              "      <td>0.562933</td>\n",
              "      <td>0.647001</td>\n",
              "      <td>0.363369</td>\n",
              "      <td>1.559476</td>\n",
              "      <td>-0.083397</td>\n",
              "      <td>-0.097647</td>\n",
              "      <td>2.239829</td>\n",
              "      <td>0.072172</td>\n",
              "      <td>0.316894</td>\n",
              "      <td>0.418610</td>\n",
              "      <td>0.132037</td>\n",
              "      <td>2.431966</td>\n",
              "      <td>0.006955</td>\n",
              "      <td>0.009535</td>\n",
              "      <td>5.016834</td>\n",
              "    </tr>\n",
              "    <tr>\n",
              "      <th>2</th>\n",
              "      <td>1.0</td>\n",
              "      <td>1.451753</td>\n",
              "      <td>1.153746</td>\n",
              "      <td>0.747987</td>\n",
              "      <td>0.049576</td>\n",
              "      <td>-0.635438</td>\n",
              "      <td>-0.231107</td>\n",
              "      <td>0.985549</td>\n",
              "      <td>-0.124285</td>\n",
              "      <td>2.107586</td>\n",
              "      <td>1.331130</td>\n",
              "      <td>0.559485</td>\n",
              "      <td>0.002458</td>\n",
              "      <td>0.403782</td>\n",
              "      <td>0.053411</td>\n",
              "      <td>0.971306</td>\n",
              "      <td>0.015447</td>\n",
              "    </tr>\n",
              "    <tr>\n",
              "      <th>3</th>\n",
              "      <td>1.0</td>\n",
              "      <td>-0.322903</td>\n",
              "      <td>-0.411909</td>\n",
              "      <td>-0.362864</td>\n",
              "      <td>-1.268358</td>\n",
              "      <td>-0.635438</td>\n",
              "      <td>-1.240463</td>\n",
              "      <td>-0.983638</td>\n",
              "      <td>-1.124488</td>\n",
              "      <td>0.104267</td>\n",
              "      <td>0.169669</td>\n",
              "      <td>0.131670</td>\n",
              "      <td>1.608732</td>\n",
              "      <td>0.403782</td>\n",
              "      <td>1.538749</td>\n",
              "      <td>0.967543</td>\n",
              "      <td>1.264473</td>\n",
              "    </tr>\n",
              "    <tr>\n",
              "      <th>4</th>\n",
              "      <td>1.0</td>\n",
              "      <td>-1.210231</td>\n",
              "      <td>0.178904</td>\n",
              "      <td>-3.493445</td>\n",
              "      <td>-1.268358</td>\n",
              "      <td>-0.635438</td>\n",
              "      <td>1.295236</td>\n",
              "      <td>-0.617809</td>\n",
              "      <td>-0.669850</td>\n",
              "      <td>1.464660</td>\n",
              "      <td>0.032007</td>\n",
              "      <td>12.204161</td>\n",
              "      <td>1.608732</td>\n",
              "      <td>0.403782</td>\n",
              "      <td>1.677636</td>\n",
              "      <td>0.381688</td>\n",
              "      <td>0.448700</td>\n",
              "    </tr>\n",
              "    <tr>\n",
              "      <th>...</th>\n",
              "      <td>...</td>\n",
              "      <td>...</td>\n",
              "      <td>...</td>\n",
              "      <td>...</td>\n",
              "      <td>...</td>\n",
              "      <td>...</td>\n",
              "      <td>...</td>\n",
              "      <td>...</td>\n",
              "      <td>...</td>\n",
              "      <td>...</td>\n",
              "      <td>...</td>\n",
              "      <td>...</td>\n",
              "      <td>...</td>\n",
              "      <td>...</td>\n",
              "      <td>...</td>\n",
              "      <td>...</td>\n",
              "      <td>...</td>\n",
              "    </tr>\n",
              "    <tr>\n",
              "      <th>80</th>\n",
              "      <td>1.0</td>\n",
              "      <td>1.747529</td>\n",
              "      <td>0.415230</td>\n",
              "      <td>0.546014</td>\n",
              "      <td>-1.268358</td>\n",
              "      <td>-0.635438</td>\n",
              "      <td>-0.686548</td>\n",
              "      <td>2.728950</td>\n",
              "      <td>2.148901</td>\n",
              "      <td>3.053857</td>\n",
              "      <td>0.172416</td>\n",
              "      <td>0.298132</td>\n",
              "      <td>1.608732</td>\n",
              "      <td>0.403782</td>\n",
              "      <td>0.471349</td>\n",
              "      <td>7.447168</td>\n",
              "      <td>4.617778</td>\n",
              "    </tr>\n",
              "    <tr>\n",
              "      <th>81</th>\n",
              "      <td>1.0</td>\n",
              "      <td>-0.914455</td>\n",
              "      <td>-0.205124</td>\n",
              "      <td>-0.564837</td>\n",
              "      <td>0.990957</td>\n",
              "      <td>0.088498</td>\n",
              "      <td>0.076623</td>\n",
              "      <td>-0.643531</td>\n",
              "      <td>-0.942633</td>\n",
              "      <td>0.836229</td>\n",
              "      <td>0.042076</td>\n",
              "      <td>0.319041</td>\n",
              "      <td>0.981996</td>\n",
              "      <td>0.007832</td>\n",
              "      <td>0.005871</td>\n",
              "      <td>0.414133</td>\n",
              "      <td>0.888557</td>\n",
              "    </tr>\n",
              "    <tr>\n",
              "      <th>82</th>\n",
              "      <td>1.0</td>\n",
              "      <td>-0.618679</td>\n",
              "      <td>-0.736856</td>\n",
              "      <td>-0.160891</td>\n",
              "      <td>-0.013183</td>\n",
              "      <td>0.057693</td>\n",
              "      <td>0.027386</td>\n",
              "      <td>1.088438</td>\n",
              "      <td>-0.487995</td>\n",
              "      <td>0.382764</td>\n",
              "      <td>0.542956</td>\n",
              "      <td>0.025886</td>\n",
              "      <td>0.000174</td>\n",
              "      <td>0.003328</td>\n",
              "      <td>0.000750</td>\n",
              "      <td>1.184697</td>\n",
              "      <td>0.238140</td>\n",
              "    </tr>\n",
              "    <tr>\n",
              "      <th>83</th>\n",
              "      <td>1.0</td>\n",
              "      <td>-0.914455</td>\n",
              "      <td>-1.179966</td>\n",
              "      <td>-0.160891</td>\n",
              "      <td>0.551646</td>\n",
              "      <td>-0.635438</td>\n",
              "      <td>-0.748095</td>\n",
              "      <td>-0.386308</td>\n",
              "      <td>-0.215213</td>\n",
              "      <td>0.836229</td>\n",
              "      <td>1.392319</td>\n",
              "      <td>0.025886</td>\n",
              "      <td>0.304313</td>\n",
              "      <td>0.403782</td>\n",
              "      <td>0.559645</td>\n",
              "      <td>0.149234</td>\n",
              "      <td>0.046317</td>\n",
              "    </tr>\n",
              "    <tr>\n",
              "      <th>84</th>\n",
              "      <td>1.0</td>\n",
              "      <td>-1.210231</td>\n",
              "      <td>0.119823</td>\n",
              "      <td>0.546014</td>\n",
              "      <td>-1.268358</td>\n",
              "      <td>-0.635438</td>\n",
              "      <td>-0.181871</td>\n",
              "      <td>0.619720</td>\n",
              "      <td>-0.397068</td>\n",
              "      <td>1.464660</td>\n",
              "      <td>0.014358</td>\n",
              "      <td>0.298132</td>\n",
              "      <td>1.608732</td>\n",
              "      <td>0.403782</td>\n",
              "      <td>0.033077</td>\n",
              "      <td>0.384053</td>\n",
              "      <td>0.157663</td>\n",
              "    </tr>\n",
              "  </tbody>\n",
              "</table>\n",
              "<p>85 rows × 17 columns</p>\n",
              "</div>"
            ],
            "text/plain": [
              "     0         1         2         3   ...        13        14        15        16\n",
              "0   1.0  1.451753  1.183287  0.949960  ...  0.403782  0.078593  0.277046  2.020610\n",
              "1   1.0  0.268649  0.562933  0.647001  ...  2.431966  0.006955  0.009535  5.016834\n",
              "2   1.0  1.451753  1.153746  0.747987  ...  0.403782  0.053411  0.971306  0.015447\n",
              "3   1.0 -0.322903 -0.411909 -0.362864  ...  0.403782  1.538749  0.967543  1.264473\n",
              "4   1.0 -1.210231  0.178904 -3.493445  ...  0.403782  1.677636  0.381688  0.448700\n",
              "..  ...       ...       ...       ...  ...       ...       ...       ...       ...\n",
              "80  1.0  1.747529  0.415230  0.546014  ...  0.403782  0.471349  7.447168  4.617778\n",
              "81  1.0 -0.914455 -0.205124 -0.564837  ...  0.007832  0.005871  0.414133  0.888557\n",
              "82  1.0 -0.618679 -0.736856 -0.160891  ...  0.003328  0.000750  1.184697  0.238140\n",
              "83  1.0 -0.914455 -1.179966 -0.160891  ...  0.403782  0.559645  0.149234  0.046317\n",
              "84  1.0 -1.210231  0.119823  0.546014  ...  0.403782  0.033077  0.384053  0.157663\n",
              "\n",
              "[85 rows x 17 columns]"
            ]
          },
          "metadata": {
            "tags": []
          },
          "execution_count": 254
        }
      ]
    },
    {
      "cell_type": "code",
      "metadata": {
        "id": "3Y2YtIhr1dpS",
        "colab_type": "code",
        "colab": {}
      },
      "source": [
        "def Logistic_Regression(X_train, Y_train, alpha=0.001,lambda_val=10, iter=100):\n",
        " theta = np.ones(X_train.shape[1]) /10\n",
        " theta=theta.reshape(X_train.shape[1],1)\n",
        " Rl=[]\n",
        " m= X_train.shape[0]\n",
        " for i in range(iter):\n",
        "  ht = X_train.dot(theta)\n",
        "  Yp = 1/(1+ np.exp(-ht)).values\n",
        "  R= Yp - Y_train.values\n",
        "  tsq = (theta * theta).sum()\n",
        "  err = float((lambda_val/(2*m))*(tsq))\n",
        "  cost = -((Y_train.values * np.log(Yp)) +((1-Y_train.values)*(np.log(1-Yp)))) +err  \n",
        "  Rl.append(cost.sum())\n",
        "  theta = theta - ((alpha/m) *(X_train.T.dot(R)))\n",
        "  #Regularise higher order terms to prevent overfitting\n",
        "  # Since square terms start from index 9 \n",
        "  for t in range(9,len(theta)):\n",
        "    theta.values[t] = theta.values[t] * (1-((alpha*lambda_val)/m))\n",
        " return theta, Rl, iter, Yp\n",
        "params=Logistic_Regression(X_train, Y_train,0.3,1,150)"
      ],
      "execution_count": null,
      "outputs": []
    },
    {
      "cell_type": "code",
      "metadata": {
        "id": "XodSBCp-enWT",
        "colab_type": "code",
        "colab": {
          "base_uri": "https://localhost:8080/",
          "height": 295
        },
        "outputId": "343bb8fd-71cb-4280-bf2f-7d818d3e2f25"
      },
      "source": [
        "plt.title('Gradient Descent')\n",
        "plt.xlabel('Iterations')\n",
        "plt.ylabel('Cost')\n",
        "X= np.arange(params[2])\n",
        "plt.plot(X,params[1],color ='orange')\n",
        "plt.show()"
      ],
      "execution_count": null,
      "outputs": [
        {
          "output_type": "display_data",
          "data": {
            "image/png": "[encoded data removed]",
            "text/plain": [
              "<Figure size 432x288 with 1 Axes>"
            ]
          },
          "metadata": {
            "tags": [],
            "needs_background": "light"
          }
        }
      ]
    },
    {
      "cell_type": "code",
      "metadata": {
        "id": "40s1G0GDeNL2",
        "colab_type": "code",
        "colab": {}
      },
      "source": [
        "def predict(X=X_train):\n",
        " theta = params[0]\n",
        " \n",
        " ht= (X.dot(theta))\n",
        " Y =np.array(1/(1+np.exp(-ht)))\n",
        " return Y"
      ],
      "execution_count": null,
      "outputs": []
    },
    {
      "cell_type": "code",
      "metadata": {
        "id": "683OLE_ZfVDz",
        "colab_type": "code",
        "colab": {
          "base_uri": "https://localhost:8080/",
          "height": 265
        },
        "outputId": "10ecdba0-0003-4102-df1d-4442fd88fd71"
      },
      "source": [
        "# Predict using the model\n",
        "X_t = X_test\n",
        "Y_t = Y_test\n",
        "Yp = predict(X_t)\n",
        "#print(Yp)\n",
        "# set threshold here\n",
        "Yp[Yp>0.5] = 1\n",
        "Yp[Yp<=0.5] = 0\n",
        "X_terms = np.arange(X_t.shape[0])\n",
        "plt.plot(X_terms, Yp)\n",
        "plt.plot(X_terms, Y_t)\n",
        "plt.show()"
      ],
      "execution_count": null,
      "outputs": [
        {
          "output_type": "display_data",
          "data": {
            "image/png": "[encoded data removed]",
            "text/plain": [
              "<Figure size 432x288 with 1 Axes>"
            ]
          },
          "metadata": {
            "tags": [],
            "needs_background": "light"
          }
        }
      ]
    },
    {
      "cell_type": "code",
      "metadata": {
        "id": "X4HgyzAlZuF0",
        "colab_type": "code",
        "colab": {}
      },
      "source": [
        "Predictions = pd.DataFrame(Y_t)\n",
        "Predictions.insert(1,1,Yp)\n",
        "Predictions.columns=['Actual','Predicted']\n",
        "# Metric calculations \n",
        "TP=Predictions[(Predictions['Actual'] == 1 ) & (Predictions['Predicted'] == 1)].count()[0]\n",
        "TN=Predictions[(Predictions['Actual'] == 0) & (Predictions['Predicted'] == 0)].count()[0]\n",
        "FP=Predictions[(Predictions['Actual'] == 0 ) & (Predictions['Predicted'] == 1)].count()[0]\n",
        "FN=Predictions[(Predictions['Actual'] == 1 ) & (Predictions['Predicted'] == 0)].count()[0]\n",
        "# Create the confusion Matrix \n",
        "confusion = pd.DataFrame(np.array([[TP, FP],[FN,TN]]))\n",
        "confusion.columns = ['Actual_Positives','Actual_Negatives']\n",
        "confusion.index = ['Predicted_Positives','Predicted_Negatives']\n",
        "Predicted_Positive= TP + FP\n",
        "Predicted_Negative= TN + FN\n",
        "Actual_Positive= TP + FN\n",
        "Actual_Negative= TN + FP\n",
        "Accuracy= (TP + TN)/(Actual_Positive + Actual_Negative)\n",
        "Precision= TP / Predicted_Positive\n",
        "#Recall or Sensitivity\n",
        "Recall = TP / Actual_Positive\n",
        "Specificity = TN / Actual_Negative\n",
        "F1_Score = (2*Precision * Recall) / (Precision + Recall)"
      ],
      "execution_count": null,
      "outputs": []
    },
    {
      "cell_type": "code",
      "metadata": {
        "id": "ndFRIdpmaBuP",
        "colab_type": "code",
        "colab": {
          "base_uri": "https://localhost:8080/",
          "height": 88
        },
        "outputId": "f9277259-5817-4729-c062-1dd91c0c1b7f"
      },
      "source": [
        "a = np.array([[TP, FP],[FN,TN]])\n",
        "print(confusion)"
      ],
      "execution_count": null,
      "outputs": [
        {
          "output_type": "stream",
          "text": [
            "                     Actual_Positives  Actual_Negatives\n",
            "Predicted_Positives                35                12\n",
            "Predicted_Negatives                 8                30\n"
          ],
          "name": "stdout"
        }
      ]
    },
    {
      "cell_type": "code",
      "metadata": {
        "id": "-T0-OEeDa69l",
        "colab_type": "code",
        "colab": {
          "base_uri": "https://localhost:8080/",
          "height": 119
        },
        "outputId": "22732a12-13ab-45fe-e6f3-16b529924900"
      },
      "source": [
        " \n",
        "print(\"Model performance on test data \")\n",
        " print('Accuracy: ',Accuracy)\n",
        "print('Precision: ', Precision)\n",
        "print('Recall: ',Recall)\n",
        "print('Specificity: ', Specificity)\n",
        "print('F1_score: %.2F'%F1_Score)"
      ],
      "execution_count": null,
      "outputs": [
        {
          "output_type": "stream",
          "text": [
            "Model performance on test data \n",
            "Accuracy:  0.7647058823529411\n",
            "Precision:  0.7446808510638298\n",
            "Recall:  0.813953488372093\n",
            "Specificity:  0.7142857142857143\n",
            "F1_score: 0.78\n"
          ],
          "name": "stdout"
        }
      ]
    }
  ]
}
