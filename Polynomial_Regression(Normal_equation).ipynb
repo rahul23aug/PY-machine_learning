{
  "nbformat": 4,
  "nbformat_minor": 0,
  "metadata": {
    "colab": {
      "name": "Polynomial_Regression(Normal_equation).ipynb",
      "provenance": []
    },
    "kernelspec": {
      "name": "python3",
      "display_name": "Python 3"
    }
  },
  "cells": [
    {
      "cell_type": "markdown",
      "metadata": {
        "id": "TSZeQrFs11vP",
        "colab_type": "text"
      },
      "source": [
        "UNIVARIATE DATASET:\n",
        "\n",
        "    X       Y\n",
        "\n",
        "    0      0.2\n",
        "\n",
        "    0.5    0.78\n",
        "\n",
        "    1      0.89\n",
        "\n",
        "    1.5    1.2\n",
        "\n",
        "    2      2.2\n",
        "\n",
        "    2.5    2.5\n",
        "\n",
        "    3      2.789\n",
        "\n",
        "    3.5    4.3\n"
      ]
    },
    {
      "cell_type": "code",
      "metadata": {
        "id": "DSrj7NUSo8L4",
        "colab_type": "code",
        "colab": {}
      },
      "source": [
        "import numpy as np, pandas as pd \n",
        "import matplotlib.pyplot as plt\n",
        "#import dataset manually\n",
        "x_data=np.array([0,0.5,1,1.5,2,2.5,3,3.5])\n",
        "y_data=np.array([ 0.2, 0.78,  0.89, 1.2, 2.2, 2.5, 2.789,4.3])"
      ],
      "execution_count": null,
      "outputs": []
    },
    {
      "cell_type": "markdown",
      "metadata": {
        "id": "-H632d8GJHLa",
        "colab_type": "text"
      },
      "source": [
        " Polynomial Regression is given by the Equation a0 + a1x + a2(x ** 2) + a3(x ** 3) + ..."
      ]
    },
    {
      "cell_type": "code",
      "metadata": {
        "id": "Hq2S2AdP4XPd",
        "colab_type": "code",
        "colab": {
          "base_uri": "https://localhost:8080/",
          "height": 283
        },
        "outputId": "adc62095-90e6-446d-9d62-879e5fb8b3ab"
      },
      "source": [
        "def polynomial_regression(x_features,y_response,degree):\n",
        " rows=x_features.shape[0]\n",
        " cols=degree\n",
        " xdata=pd.DataFrame(np.zeros(rows*cols).reshape(rows, cols))\n",
        " #Create a dataset with polynomial features\n",
        " xdata[0]=x_features\n",
        " for obs in range(1,degree):\n",
        "  xdata[obs]= xdata[0]**(obs+1)\n",
        " thetas= np.linalg.pinv(xdata.T.dot(xdata)).dot(xdata.T.dot(y_response))\n",
        " print('Thetas are: ',thetas)\n",
        " yp= xdata.dot(thetas)\n",
        "#Plotting the result\n",
        " plt.plot(x_data,yp)\n",
        " plt.scatter(x_data,y_data, color='r')\n",
        " plt.xlabel(\"X data\",color='orange')\n",
        " plt.ylabel(\"Y data\",color='orange')\n",
        " plt.show()\n",
        " MSE=((yp- y_response)**2).sum()/yp.shape[0]\n",
        " print(\"MSE: %.5f\"%MSE)\n",
        " return \n",
        "res=polynomial_regression(x_data, y_data, 3)"
      ],
      "execution_count": null,
      "outputs": [
        {
          "output_type": "stream",
          "text": [
            "Thetas are:  [ 1.42232647 -0.49355287  0.12227119]\n"
          ],
          "name": "stdout"
        },
        {
          "output_type": "display_data",
          "data": {
            "image/png": "[encoded data removed]",
            "text/plain": [
              "<Figure size 432x288 with 1 Axes>"
            ]
          },
          "metadata": {
            "tags": [],
            "needs_background": "light"
          }
        },
        {
          "output_type": "stream",
          "text": [
            "MSE: 0.05248\n"
          ],
          "name": "stdout"
        }
      ]
    }
  ]
}