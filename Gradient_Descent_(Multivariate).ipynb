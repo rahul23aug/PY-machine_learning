{
  "nbformat": 4,
  "nbformat_minor": 0,
  "metadata": {
    "colab": {
      "name": "MultivariateLinearRegression .ipynb",
      "provenance": [],
      "collapsed_sections": []
    },
    "kernelspec": {
      "name": "python3",
      "display_name": "Python 3"
    }
  },
  "cells": [
    {
      "cell_type": "markdown",
      "metadata": {
        "id": "U-ywomXAyqeM",
        "colab_type": "text"
      },
      "source": [
        "Multivariate Linear Regression without scaling\n",
        " "
      ]
    },
    {
      "cell_type": "code",
      "metadata": {
        "id": "sm8R62tv9fpg",
        "colab_type": "code",
        "colab": {}
      },
      "source": [
        "import numpy as np\n",
        "import pandas as pd"
      ],
      "execution_count": 2,
      "outputs": []
    },
    {
      "cell_type": "markdown",
      "metadata": {
        "id": "lrD2bURjTUUw",
        "colab_type": "text"
      },
      "source": [
        "LOAD THE DATASET"
      ]
    },
    {
      "cell_type": "code",
      "metadata": {
        "id": "3s9Mau9zTEvn",
        "colab_type": "code",
        "colab": {}
      },
      "source": [
        "dataset=pd.read_csv('./50_Startups.csv')\n"
      ],
      "execution_count": 6,
      "outputs": []
    },

    {
      "cell_type": "markdown",
      "metadata": {
        "id": "LZv5To78ad7L",
        "colab_type": "text"
      },
      "source": [
        "DATA WRANGLING :\n",
        "\n",
        "No na's in the data but since we have categorical data \"State\" we will encode it to dummy variables, since whe have three labels viz California, New York, Florida\n",
        "we need 3-1=2 dummy variables\n",
        "such that D0=California and D1=New York"
      ]
    },
    {
      "cell_type": "code",
      "metadata": {
        "id": "9gyzfvONX7SL",
        "colab_type": "code",
        "colab": {}
      },
      "source": [
        "dataset['D0']=dataset['State'].replace({\"California\":1,\"Florida\":0,\"New York\":0})\n",
        "dataset['D1']=dataset['State'].replace({\"California\":0,\"Florida\":0,\"New York\":1})\n",
        "dataset['ones']= np.ones(len(dataset)).reshape(len(dataset),1)"
      ],
      "execution_count": 7,
      "outputs": []
    },
    {
      "cell_type": "markdown",
      "metadata": {
        "id": "UJMCHJKhdc0v",
        "colab_type": "text"
      },
      "source": [
        "View the changes"
      ]
    },
    {
      "cell_type": "code",
      "metadata": {
        "id": "NbkBUTOGb94e",
        "colab_type": "code",
        "colab": {
          "base_uri": "https://localhost:8080/",
          "height": 981
        },
        "outputId": "8f660110-ae9e-483d-d636-72f6b7905536"
      },
      "source": [
        "print(dataset)"
      ],
      "execution_count": 8,
      "outputs": [
        {
          "output_type": "stream",
          "text": [
            "    R&D Spend  Administration  Marketing Spend  ... D0  D1  ones\n",
            "0   165349.20       136897.80        471784.10  ...  0   1   1.0\n",
            "1   162597.70       151377.59        443898.53  ...  1   0   1.0\n",
            "2   153441.51       101145.55        407934.54  ...  0   0   1.0\n",
            "3   144372.41       118671.85        383199.62  ...  0   1   1.0\n",
            "4   142107.34        91391.77        366168.42  ...  0   0   1.0\n",
            "5   131876.90        99814.71        362861.36  ...  0   1   1.0\n",
            "6   134615.46       147198.87        127716.82  ...  1   0   1.0\n",
            "7   130298.13       145530.06        323876.68  ...  0   0   1.0\n",
            "8   120542.52       148718.95        311613.29  ...  0   1   1.0\n",
            "9   123334.88       108679.17        304981.62  ...  1   0   1.0\n",
            "10  101913.08       110594.11        229160.95  ...  0   0   1.0\n",
            "11  100671.96        91790.61        249744.55  ...  1   0   1.0\n",
            "12   93863.75       127320.38        249839.44  ...  0   0   1.0\n",
            "13   91992.39       135495.07        252664.93  ...  1   0   1.0\n",
            "14  119943.24       156547.42        256512.92  ...  0   0   1.0\n",
            "15  114523.61       122616.84        261776.23  ...  0   1   1.0\n",
            "16   78013.11       121597.55        264346.06  ...  1   0   1.0\n",
            "17   94657.16       145077.58        282574.31  ...  0   1   1.0\n",
            "18   91749.16       114175.79        294919.57  ...  0   0   1.0\n",
            "19   86419.70       153514.11             0.00  ...  0   1   1.0\n",
            "20   76253.86       113867.30        298664.47  ...  1   0   1.0\n",
            "21   78389.47       153773.43        299737.29  ...  0   1   1.0\n",
            "22   73994.56       122782.75        303319.26  ...  0   0   1.0\n",
            "23   67532.53       105751.03        304768.73  ...  0   0   1.0\n",
            "24   77044.01        99281.34        140574.81  ...  0   1   1.0\n",
            "25   64664.71       139553.16        137962.62  ...  1   0   1.0\n",
            "26   75328.87       144135.98        134050.07  ...  0   0   1.0\n",
            "27   72107.60       127864.55        353183.81  ...  0   1   1.0\n",
            "28   66051.52       182645.56        118148.20  ...  0   0   1.0\n",
            "29   65605.48       153032.06        107138.38  ...  0   1   1.0\n",
            "30   61994.48       115641.28         91131.24  ...  0   0   1.0\n",
            "31   61136.38       152701.92         88218.23  ...  0   1   1.0\n",
            "32   63408.86       129219.61         46085.25  ...  1   0   1.0\n",
            "33   55493.95       103057.49        214634.81  ...  0   0   1.0\n",
            "34   46426.07       157693.92        210797.67  ...  1   0   1.0\n",
            "35   46014.02        85047.44        205517.64  ...  0   1   1.0\n",
            "36   28663.76       127056.21        201126.82  ...  0   0   1.0\n",
            "37   44069.95        51283.14        197029.42  ...  1   0   1.0\n",
            "38   20229.59        65947.93        185265.10  ...  0   1   1.0\n",
            "39   38558.51        82982.09        174999.30  ...  1   0   1.0\n",
            "40   28754.33       118546.05        172795.67  ...  1   0   1.0\n",
            "41   27892.92        84710.77        164470.71  ...  0   0   1.0\n",
            "42   23640.93        96189.63        148001.11  ...  1   0   1.0\n",
            "43   15505.73       127382.30         35534.17  ...  0   1   1.0\n",
            "44   22177.74       154806.14         28334.72  ...  1   0   1.0\n",
            "45    1000.23       124153.04          1903.93  ...  0   1   1.0\n",
            "46    1315.46       115816.21        297114.46  ...  0   0   1.0\n",
            "47       0.00       135426.92             0.00  ...  1   0   1.0\n",
            "48     542.05        51743.15             0.00  ...  0   1   1.0\n",
            "49       0.00       116983.80         45173.06  ...  1   0   1.0\n",
            "\n",
            "[50 rows x 8 columns]\n"
          ],
          "name": "stdout"
        }
      ]
    },
    {
      "cell_type": "markdown",
      "metadata": {
        "id": "oIM2Q20Igqdc",
        "colab_type": "text"
      },
      "source": [
        "Create a new dataframe to work with.\n",
        "the old one can be used for reference if needed"
      ]
    },
    {
      "cell_type": "code",
      "metadata": {
        "id": "dIxr8AnSfSNP",
        "colab_type": "code",
        "colab": {}
      },
      "source": [
        "df=dataset[['ones','R&D Spend', 'Administration', 'Marketing Spend','D0', 'D1', 'Profit']]\n",
        "y_features= df[df.columns[-1]]\n",
        "x_features=df[df.columns[:-1]]\n",
        "#pass a list of the column names to be extracted from thr original dataframe and the order in which they must appear"
      ],
      "execution_count": 19,
      "outputs": []
    },
    {
      "cell_type": "markdown",
      "metadata": {
        "id": "pnOJI96SjnYT",
        "colab_type": "text"
      },
      "source": [
        "SHOW THE RESULTS"
      ]
    },
    {
      "cell_type": "code",
      "metadata": {
        "id": "5DtP6pErhRXf",
        "colab_type": "code",
        "colab": {}
      },
      "source": [
        "print(df)"
      ],
      "execution_count": null,
      "outputs": []
    },
    {
      "cell_type": "code",
      "metadata": {
        "id": "1Or5pDXymHz5",
        "colab_type": "code",
        "colab": {}
      },
      "source": [
        "print(y_features)"
      ],
      "execution_count": null,
      "outputs": []
    },
    {
      "cell_type": "code",
      "metadata": {
        "id": "kcSMZn92mYTf",
        "colab_type": "code",
        "colab": {}
      },
      "source": [
        "print(x_features)"
      ],
      "execution_count": null,
      "outputs": []
    },
    {
      "cell_type": "markdown",
      "metadata": {
        "id": "mNtbBgh5amAb",
        "colab_type": "text"
      },
      "source": [
        "Let's see how the dataframe column values fluctuate"
      ]
    },
    {
      "cell_type": "code",
      "metadata": {
        "id": "KZvFdcqSi0Cn",
        "colab_type": "code",
        "colab": {
          "base_uri": "https://localhost:8080/",
          "height": 417
        },
        "outputId": "0839ba4e-3cd6-414c-a7f8-01a0ff43877b"
      },
      "source": [
        "print(\"Max Features:\\n \")\n",
        "print(df.max(axis=0))\n",
        "print(\"\\n\\nMin Features: \\n\")\n",
        "print(df.min(axis=0))"
      ],
      "execution_count": 11,
      "outputs": [
        {
          "output_type": "stream",
          "text": [
            "Max Features:\n",
            " \n",
            "ones                    1.00\n",
            "R&D Spend          165349.20\n",
            "Administration     182645.56\n",
            "Marketing Spend    471784.10\n",
            "D0                      1.00\n",
            "D1                      1.00\n",
            "Profit             192261.83\n",
            "dtype: float64\n",
            "\n",
            "\n",
            "Min Features: \n",
            "\n",
            "ones                   1.00\n",
            "R&D Spend              0.00\n",
            "Administration     51283.14\n",
            "Marketing Spend        0.00\n",
            "D0                     0.00\n",
            "D1                     0.00\n",
            "Profit             14681.40\n",
            "dtype: float64\n"
          ],
          "name": "stdout"
        }
      ]
    },
    {
      "cell_type": "markdown",
      "metadata": {
        "id": "60dXpVeCnPq8",
        "colab_type": "text"
      },
      "source": [
        "multi-variate linear model is : \n",
        "\n",
        "y= Theta0 + Theta1*x1 + Theta2*x2 + Theta3*x3 +.....\n",
        "\n",
        "in vector notation:\n",
        "Theta(transpose)*xi (from 1 to n) + Theta0\n",
        "\n",
        "Gradient Descent is given by:\n",
        "min(theta) fot J(Theta0,Theta1,..)\n",
        "where j= ((yp=y)**2/2m)\n",
        "\n",
        "Note: Theta values must be updated simultaneously and then plugged in"
      ]
    },
    {
      "cell_type": "markdown",
      "metadata": {
        "id": "F7Kh-jXgYJSe",
        "colab_type": "text"
      },
      "source": [
        "Note: The model requires you to set the learning rate \n",
        "it is an iterative process (if the rate is too high you will see inf. or nan as MSE: valued if its is too low you will see some value but the graph will be a straight line. A right learning rate & iteration combo produces a decreasing exponent)"
      ]
    },
    {
      "cell_type": "code",
      "metadata": {
        "id": "BheC_5yP3Dob",
        "colab_type": "code",
        "colab": {
          "base_uri": "https://localhost:8080/",
          "height": 35
        },
        "outputId": "eeefe2b2-5854-4d21-876f-c9649d3938b6"
      },
      "source": [
        "def fit(x_features,y_responses,alpha=0.000000000001,iter=100):\n",
        " theta=np.ones(x_features.shape[1])\n",
        " rl=[]\n",
        " for i in range(iter):\n",
        "  yp=(x_features*theta).sum(axis=1)\n",
        "  rl.append([(yp-y_responses).sum()])\n",
        "  for column in range(theta.shape[0]):\n",
        "    difference=(x_features[x_features.columns[column]]*(yp-y_responses)).sum()\n",
        "    theta[column]= theta[column] - (alpha*difference)/y_responses.shape[0]\n",
        " MSE=(((yp-y_responses)**2)/y_responses.shape[0]).sum()\n",
        " print(\"MSE: \",MSE)\n",
        " return (rl , iter, theta)\n",
        "y=fit(x_features,y_responses)"
      ],
      "execution_count": 73,
      "outputs": [
        {
          "output_type": "stream",
          "text": [
            "MSE:  268737835.4457357\n"
          ],
          "name": "stdout"
        }
      ]
    },
    {
      "cell_type": "code",
      "metadata": {
        "id": "ed7WZIRv34ma",
        "colab_type": "code",
        "colab": {
          "base_uri": "https://localhost:8080/",
          "height": 313
        },
        "outputId": "0fec065e-1952-4e56-d505-3ea7541254a0"
      },
      "source": [
        "import matplotlib.pyplot as plt\n",
        "x=np.arange(y[1])\n",
        "plt.plot(x,np.array(y[0])**2)\n",
        "plt.xlabel(\"ITERATIONS\")\n",
        "plt.ylabel(\"RESIDUALS\")\n",
        "plt.title(\"Gradient Descent\")\n",
        "plt.show()\n",
        "print(\"Theta values are: \", end=\" \")\n",
        "print(y[2])"
      ],
      "execution_count": 74,
      "outputs": [
        {
          "output_type": "display_data",
          "data": {
            "image/png": "[encoded data removed]",
            "text/plain": [
              "<Figure size 432x288 with 1 Axes>"
            ]
          },
          "metadata": {
            "tags": [],
            "needs_background": "light"
          }
        },
        {
          "output_type": "stream",
          "text": [
            "Theta values are:  [0.99999603 0.66214674 0.47686476 0.03273547 0.99999875 0.99999867]\n"
          ],
          "name": "stdout"
        }
      ]
    },
    {
      "cell_type": "code",
      "metadata": {
        "id": "HpId46IAPbhZ",
        "colab_type": "code",
        "colab": {
          "base_uri": "https://localhost:8080/",
          "height": 35
        },
        "outputId": "e9cef1ae-c6a9-4249-f9c1-76d307914afc"
      },
      "source": [
        "# PREDICT USING THE MODEL\n",
        "def predict(x,th):\n",
        "  return (th.T*x).sum()\n",
        "x=[ 1.0,162597.70,151377.59,393898.53,1,1]\n",
        "print(\"%.5f\"%predict(x,y[2]))"
      ],
      "execution_count": 75,
      "outputs": [
        {
          "output_type": "stream",
          "text": [
            "192747.62948\n"
          ],
          "name": "stdout"
        }
      ]
    },
    {
      "cell_type": "markdown",
      "metadata": {
        "id": "i3cRJT2JLAiD",
        "colab_type": "text"
      },
      "source": [
        ""
      ]
    }
  ]
}
