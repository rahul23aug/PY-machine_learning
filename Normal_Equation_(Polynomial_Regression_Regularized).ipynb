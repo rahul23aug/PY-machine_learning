{
  "nbformat": 4,
  "nbformat_minor": 0,
  "metadata": {
    "colab": {
      "name": "Normal_Equation(Polynomial_Regression_Regularized)",
      "provenance": [],
      "collapsed_sections": []
    },
    "kernelspec": {
      "name": "python3",
      "display_name": "Python 3"
    }
  },
  "cells": [
    {
      "cell_type": "markdown",
      "metadata": {
        "id": "TSZeQrFs11vP",
        "colab_type": "text"
      },
      "source": [
        "UNIVARIATE DATASET:\n",
        "\n",
        "    X       Y\n",
        "\n",
        "    0      0.2\n",
        "\n",
        "    0.5    0.78\n",
        "\n",
        "    1      0.89\n",
        "\n",
        "    1.5    1.2\n",
        "\n",
        "    2      2.2\n",
        "\n",
        "    2.5    2.5\n",
        "\n",
        "    3      2.789\n",
        "\n",
        "    3.5    4.3\n"
      ]
    },
    {
      "cell_type": "code",
      "metadata": {
        "id": "DSrj7NUSo8L4",
        "colab_type": "code",
        "colab": {}
      },
      "source": [
        "import numpy as np, pandas as pd \n",
        "import matplotlib.pyplot as plt\n",
        "#import dataset manually\n",
        "x_data=pd.DataFrame(np.array([0,0.5,1,1.5,2,2.5,3,3.5]))\n",
        "y_data=pd.DataFrame(np.array([ 0.2, 0.78,  0.89, 1.2, 2.2, 2.5, 2.789,4.3]))"
      ],
      "execution_count": null,
      "outputs": []
    },
    {
      "cell_type": "code",
      "metadata": {
        "id": "kVXRoU_RqENC",
        "colab_type": "code",
        "colab": {
          "base_uri": "https://localhost:8080/",
          "height": 316
        },
        "outputId": "2f71efbe-f460-4714-ae5b-4421d954b562"
      },
      "source": [
        " def polynomial_features(x_data,degree=2):\n",
        "  x_features = x_data \n",
        "  m = x_features.shape[0]\n",
        "  n = x_features.shape[1]\n",
        "  ones = np.ones(m)\n",
        "  col_count = n\n",
        "  for cols in x_features.columns:\n",
        "   for i in range(1,degree+1):\n",
        "    x_features[col_count] = x_features[cols]**(i+1)\n",
        "    col_count +=1\n",
        "  x_features.insert(0,'ones',ones)\n",
        "  return x_features\n",
        "X_data=pd.DataFrame(polynomial_features(x_data,4))\n",
        "X_data"
      ],
      "execution_count": null,
      "outputs": [
        {
          "output_type": "execute_result",
          "data": {
            "text/html": [
              "<div>\n",
              "<style scoped>\n",
              "    .dataframe tbody tr th:only-of-type {\n",
              "        vertical-align: middle;\n",
              "    }\n",
              "\n",
              "    .dataframe tbody tr th {\n",
              "        vertical-align: top;\n",
              "    }\n",
              "\n",
              "    .dataframe thead th {\n",
              "        text-align: right;\n",
              "    }\n",
              "</style>\n",
              "<table border=\"1\" class=\"dataframe\">\n",
              "  <thead>\n",
              "    <tr style=\"text-align: right;\">\n",
              "      <th></th>\n",
              "      <th>ones</th>\n",
              "      <th>0</th>\n",
              "      <th>1</th>\n",
              "      <th>2</th>\n",
              "      <th>3</th>\n",
              "      <th>4</th>\n",
              "    </tr>\n",
              "  </thead>\n",
              "  <tbody>\n",
              "    <tr>\n",
              "      <th>0</th>\n",
              "      <td>1.0</td>\n",
              "      <td>0.0</td>\n",
              "      <td>0.00</td>\n",
              "      <td>0.000</td>\n",
              "      <td>0.0000</td>\n",
              "      <td>0.00000</td>\n",
              "    </tr>\n",
              "    <tr>\n",
              "      <th>1</th>\n",
              "      <td>1.0</td>\n",
              "      <td>0.5</td>\n",
              "      <td>0.25</td>\n",
              "      <td>0.125</td>\n",
              "      <td>0.0625</td>\n",
              "      <td>0.03125</td>\n",
              "    </tr>\n",
              "    <tr>\n",
              "      <th>2</th>\n",
              "      <td>1.0</td>\n",
              "      <td>1.0</td>\n",
              "      <td>1.00</td>\n",
              "      <td>1.000</td>\n",
              "      <td>1.0000</td>\n",
              "      <td>1.00000</td>\n",
              "    </tr>\n",
              "    <tr>\n",
              "      <th>3</th>\n",
              "      <td>1.0</td>\n",
              "      <td>1.5</td>\n",
              "      <td>2.25</td>\n",
              "      <td>3.375</td>\n",
              "      <td>5.0625</td>\n",
              "      <td>7.59375</td>\n",
              "    </tr>\n",
              "    <tr>\n",
              "      <th>4</th>\n",
              "      <td>1.0</td>\n",
              "      <td>2.0</td>\n",
              "      <td>4.00</td>\n",
              "      <td>8.000</td>\n",
              "      <td>16.0000</td>\n",
              "      <td>32.00000</td>\n",
              "    </tr>\n",
              "    <tr>\n",
              "      <th>5</th>\n",
              "      <td>1.0</td>\n",
              "      <td>2.5</td>\n",
              "      <td>6.25</td>\n",
              "      <td>15.625</td>\n",
              "      <td>39.0625</td>\n",
              "      <td>97.65625</td>\n",
              "    </tr>\n",
              "    <tr>\n",
              "      <th>6</th>\n",
              "      <td>1.0</td>\n",
              "      <td>3.0</td>\n",
              "      <td>9.00</td>\n",
              "      <td>27.000</td>\n",
              "      <td>81.0000</td>\n",
              "      <td>243.00000</td>\n",
              "    </tr>\n",
              "    <tr>\n",
              "      <th>7</th>\n",
              "      <td>1.0</td>\n",
              "      <td>3.5</td>\n",
              "      <td>12.25</td>\n",
              "      <td>42.875</td>\n",
              "      <td>150.0625</td>\n",
              "      <td>525.21875</td>\n",
              "    </tr>\n",
              "  </tbody>\n",
              "</table>\n",
              "</div>"
            ],
            "text/plain": [
              "   ones    0      1       2         3          4\n",
              "0   1.0  0.0   0.00   0.000    0.0000    0.00000\n",
              "1   1.0  0.5   0.25   0.125    0.0625    0.03125\n",
              "2   1.0  1.0   1.00   1.000    1.0000    1.00000\n",
              "3   1.0  1.5   2.25   3.375    5.0625    7.59375\n",
              "4   1.0  2.0   4.00   8.000   16.0000   32.00000\n",
              "5   1.0  2.5   6.25  15.625   39.0625   97.65625\n",
              "6   1.0  3.0   9.00  27.000   81.0000  243.00000\n",
              "7   1.0  3.5  12.25  42.875  150.0625  525.21875"
            ]
          },
          "metadata": {
            "tags": []
          },
          "execution_count": 3
        }
      ]
    },
    {
      "cell_type": "code",
      "metadata": {
        "id": "Hq2S2AdP4XPd",
        "colab_type": "code",
        "colab": {}
      },
      "source": [
        "def polynomial_regression(x_features,y_response,lambda_val):\n",
        "  L = pd.DataFrame(lambda_val * np.identity(x_features.shape[1]))\n",
        "  Xsq = x_features.T.dot(x_features)\n",
        "  # Normal equation is inv(X'X + lambda*L) * X'Y\n",
        "  # the regulation is usually not done on theta 0 and the first element of it is set to 0 \n",
        "  # but here it affects the score hence theta0 is regularised too\n",
        "  theta = np.linalg.pinv(Xsq.values + L.values).dot(x_features.T.dot(y_response))\n",
        "  return theta\n",
        "res=polynomial_regression(x_data, y_data,3)"
      ],
      "execution_count": null,
      "outputs": []
    },
    {
      "cell_type": "code",
      "metadata": {
        "id": "oQ-PQ8Dzkixb",
        "colab_type": "code",
        "colab": {
          "base_uri": "https://localhost:8080/",
          "height": 228
        },
        "outputId": "102bdb6d-ef32-4517-a5a7-7c25308aa58a"
      },
      "source": [
        "Yp = X_data.dot(res)\n",
        "plt.plot(np.arange(Yp.shape[0]), Yp,color='b')\n",
        "plt.scatter(np.arange(Yp.shape[0]), y_data,color='r')\n",
        "plt.xlabel(\"observations\")\n",
        "plt.ylabel(\"Amplitudes\")\n",
        "plt.show()"
      ],
      "execution_count": null,
      "outputs": [
        {
          "output_type": "display_data",
          "data": {
            "image/png": "[encoded data removed]",
            "text/plain": [
              "<Figure size 432x288 with 1 Axes>"
            ]
          },
          "metadata": {
            "tags": [],
            "needs_background": "light"
          }
        }
      ]
    }
  ]
}