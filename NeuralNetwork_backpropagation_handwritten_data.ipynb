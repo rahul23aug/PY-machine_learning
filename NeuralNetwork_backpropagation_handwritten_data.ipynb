{
  "nbformat": 4,
  "nbformat_minor": 0,
  "metadata": {
    "colab": {
      "name": "ML_handwritten_data",
      "provenance": [],
      "collapsed_sections": []
    },
    "kernelspec": {
      "name": "python3",
      "display_name": "Python 3"
    }
  },
  "cells": [
    {
      "cell_type": "code",
      "metadata": {
        "id": "-XzQgrXcZ5n_"
      },
      "source": [
        "import numpy as np,pandas as pd\n",
        "from sklearn.model_selection import train_test_split\n",
        "import matplotlib.pyplot as plt\n",
        "from scipy import optimize"
      ],
      "execution_count": null,
      "outputs": []
    },
    {
      "cell_type": "code",
      "metadata": {
        "id": "EzjpmNbHa6L_"
      },
      "source": [
        " from sklearn.datasets import fetch_openml\n",
        "df = fetch_openml('mnist_784', cache=False)"
      ],
      "execution_count": null,
      "outputs": []
    },
    {
      "cell_type": "code",
      "metadata": {
        "id": "2iF4jqpEbNbK"
      },
      "source": [
        "X = df.data.astype('float32')\n",
        "Y = df.target.astype('int64')"
      ],
      "execution_count": null,
      "outputs": []
    },
    {
      "cell_type": "code",
      "metadata": {
        "id": "i0fh5-qVbVv7"
      },
      "source": [
        "X_train,X_test,Y_train,Y_test = train_test_split(X,Y)"
      ],
      "execution_count": null,
      "outputs": []
    },
    {
      "cell_type": "code",
      "metadata": {
        "id": "xNdP_uBwb8Yv",
        "colab": {
          "base_uri": "https://localhost:8080/",
          "height": 265
        },
        "outputId": "4cbe680d-7bf5-45d0-eab2-c8c8daf7a117"
      },
      "source": [
        " \n",
        "#Lets see an example of the data\n",
        "plt.imshow(X_train[0].reshape(28,28))\n",
        "plt.axis('off')\n",
        "print('Example data class: ',Y_train[0])"
      ],
      "execution_count": null,
      "outputs": [
        {
          "output_type": "stream",
          "text": [
            "Example data class:  2\n"
          ],
          "name": "stdout"
        },
        {
          "output_type": "display_data",
          "data": {
            "image/png": "[encoded data removed]",
            "text/plain": [
              "<Figure size 432x288 with 1 Axes>"
            ]
          },
          "metadata": {
            "tags": [],
            "needs_background": "light"
          }
        }
      ]
    },
    {
      "cell_type": "code",
      "metadata": {
        "id": "lhpc1cukci0J",
        "colab": {
          "base_uri": "https://localhost:8080/"
        },
        "outputId": "b6ac0e4f-4f96-451e-edb1-7d8b73abfdaa"
      },
      "source": [
        "input_layer_size  = 784\n",
        "hidden_layer_size = 56\n",
        "num_labels = 10\n",
        " \n",
        " \n",
        "def nnrandomlyInitializeWeights( L_in, L_out, epsilon_init=0.12): \n",
        "  W = np.random.rand(L_out, 1 + L_in) * 2 * epsilon_init - epsilon_init\n",
        "  return W\n",
        " \n",
        "def nnInitialize( ):\n",
        "  print('Initializing Neural Network Parameters ...')\n",
        "  initial_Theta1 =  nnrandomlyInitializeWeights( input_layer_size,  hidden_layer_size) \n",
        "  initial_Theta2 =  nnrandomlyInitializeWeights( hidden_layer_size,  num_labels)\n",
        "  initial_nn_params = np.concatenate([initial_Theta1.ravel(), initial_Theta2.ravel()], axis=0)\n",
        "  print('Setting nnparams.....')\n",
        "  return initial_nn_params\n",
        " \n",
        "nn_params = nnInitialize( )    \n",
        " \n",
        "def sigmoid( z):\n",
        "  return 1/(1+np.exp(-z))\n",
        "  \n",
        "def sigmoidGradient( z2):\n",
        "  g =  sigmoid(z2)\n",
        "  g = g*(1-g)\n",
        "  return g\n",
        " \n",
        "def nnfeed_forward(Theta1, Theta2,X ):\n",
        "  A2 =  sigmoid( X.dot( Theta1.T))\n",
        "  A2 = np.concatenate([np.ones((A2.shape[0], 1)), A2], axis=1)\n",
        "  return  A2.dot( Theta2.T)\n",
        " \n",
        "def predict(Theta1, Theta2, X):\n",
        "  m = X.shape[0]\n",
        "  num_labels = Theta2.shape[0]\n",
        "  p = np.zeros(m)\n",
        "  h1 = sigmoid(np.dot(np.concatenate([np.ones((m, 1)), X], axis=1), Theta1.T))\n",
        "  h2 = sigmoid(np.dot(np.concatenate([np.ones((m, 1)), h1], axis=1), Theta2.T))\n",
        "  p = np.argmax(h2, axis=1)\n",
        "  return p\n",
        " \n",
        " \n",
        "def nncost(X,y,nn_params,input_layer_size,hidden_layer_size,num_labels,lambda_=0):\n",
        "  Theta1 = np.reshape(nn_params[:hidden_layer_size * (input_layer_size + 1)],                    (hidden_layer_size, (input_layer_size + 1)))\n",
        " \n",
        "  Theta2 = np.reshape(nn_params[(hidden_layer_size * (input_layer_size + 1)):],\n",
        "                    (num_labels, (hidden_layer_size + 1)))\n",
        "  X = np.array(X)\n",
        "  Y = y.reshape(-1)\n",
        "  Y = np.eye(num_labels)[Y]\n",
        "  # Setup some useful variables\n",
        "  m = y.size\n",
        "  # map classes as vectors\n",
        "  Y = y.reshape(-1)\n",
        "  Y = np.eye(num_labels)[Y]\n",
        "  #print(y[2420 ,:])\n",
        "  X = np.concatenate([np.ones((X.shape[0], 1)), X], axis=1)\n",
        "  A2 = X.dot(Theta1.T) #5000 x 401 25x401 > 5000,25\n",
        "  A2 = sigmoid(A2) #5000,25\n",
        "  A2 = np.concatenate([np.ones((A2.shape[0], 1)), A2], axis=1) #5000,26\n",
        "  #print('X incl bias: ',Theta1.shape) \n",
        "  #print('Theta1: ',Theta1.shape) \n",
        "  #print('A2 incl bias: ',A2.shape) \n",
        "  #print('Theta2: ',Theta2.shape) \n",
        "  y_pred = A2.dot(Theta2.T)  #5000,26 26,10 \n",
        "  y_pred = sigmoid(y_pred)  #5000, 10\n",
        "  grad =0    \n",
        "  #print(y_pred.shape)\n",
        "  J = (((-Y*np.log(y_pred)) - ((1-Y)*np.log(1-y_pred))).sum(axis=1)).sum(axis=0) / m  +  ( (lambda_ /(2*m) ) * ((np.square(Theta1[:,1:]).sum(axis=0)).sum() + (np.square(Theta2[:,1:]).sum(axis=0)).sum()))\n",
        "  d3 =  y_pred - Y  #5000, 10\n",
        "  z2 = X.dot(Theta1.T)\n",
        "  #print('z2',z2.shape)\n",
        "  d2 = d3.dot(Theta2[:,1:]) * sigmoidGradient(z2) #5000, 10 10,25  --> 5000,25 5000,25----> 5000,25\n",
        "  #print('d2: ',d2.shape) \n",
        "  Delta1 = d2.T.dot(X)\n",
        "  #print('Delta1: ',Delta1.shape)\n",
        "  Delta2 = d3.T.dot(A2)\n",
        "  #print('Delta2: ',Delta2.shape)\n",
        "  Theta1_grad = (1 / m) * Delta1\n",
        "  Theta1_grad[:, 1:] = Theta1_grad[:, 1:] + (lambda_ / m) * Theta1[:, 1:]\n",
        "  #print('Theta1_grad: ',Theta1_grad.shape)\n",
        "  Theta2_grad = (1 / m) * Delta2\n",
        "  Theta2_grad[:, 1:] = Theta2_grad[:, 1:] + (lambda_ / m) * Theta2[:, 1:]\n",
        "  #print('Theta2_grad: ',Theta2_grad.shape)\n",
        "  grad = np.concatenate([Theta1_grad.ravel(), Theta2_grad.ravel()])\n",
        "  print('cost: ',J)\n",
        "  return J, grad\n",
        " \n",
        " \n",
        "options= {'maxiter': 300}\n",
        "lambda_ = 0.4\n",
        "initial_nn_params = nnInitialize( )\n",
        "# Create \"short hand\" for the cost function to be minimized\n",
        "costFunction = lambda p: nncost(X_train, Y_train,p, input_layer_size,\n",
        "                                        hidden_layer_size,\n",
        "                                        num_labels,  lambda_)\n",
        " \n",
        "# Now, costFunction is a function that takes in only one argument\n",
        "# (the neural network parameters)\n",
        "res = optimize.minimize(costFunction,\n",
        "                        initial_nn_params,\n",
        "                        jac=True,\n",
        "                        method='TNC',\n",
        "                        options=options)\n",
        " \n",
        "# get the solution of the optimization\n",
        "nn_params = res.x\n",
        "        \n",
        "# Obtain Theta1 and Theta2 back from nn_params\n",
        "Theta1 = np.reshape(nn_params[:hidden_layer_size * (input_layer_size + 1)],\n",
        "                    (hidden_layer_size, (input_layer_size + 1)))\n",
        " \n",
        "Theta2 = np.reshape(nn_params[(hidden_layer_size * (input_layer_size + 1)):],\n",
        "                    (num_labels, (hidden_layer_size + 1)))"
      ],
      "execution_count": null,
      "outputs": [
        {
          "output_type": "stream",
          "text": [
            "Initializing Neural Network Parameters ...\n",
            "Setting nnparams.....\n",
            "Initializing Neural Network Parameters ...\n",
            "Setting nnparams.....\n"
          ],
          "name": "stdout"
        },
        {
          "output_type": "stream",
          "text": [
            "/usr/local/lib/python3.6/dist-packages/ipykernel_launcher.py:20: RuntimeWarning: overflow encountered in exp\n"
          ],
          "name": "stderr"
        },
        {
          "output_type": "stream",
          "text": [
            "cost:  7.083122011641458\n",
            "cost:  7.083121517463519\n",
            "cost:  7.083115161623828\n",
            "cost:  3.27433710783474\n",
            "cost:  3.2743370749878236\n",
            "cost:  3.274336993211863\n",
            "cost:  3.1637627400327735\n",
            "cost:  3.3797765498039447\n",
            "cost:  3.1682742347813866\n",
            "cost:  3.128545516648374\n",
            "cost:  3.1285455041763575\n",
            "cost:  3.12853428733237\n",
            "cost:  2.8046422420547463\n",
            "cost:  2.8046421583100094\n",
            "cost:  2.8046400314080078\n",
            "cost:  2.450005583440999\n",
            "cost:  2.450005534080949\n",
            "cost:  2.4500048105759107\n",
            "cost:  2.283543798144759\n",
            "cost:  2.163971131557702\n",
            "cost:  2.1639710064482856\n",
            "cost:  2.1639467906065213\n",
            "cost:  1.8993044949793443\n",
            "cost:  1.8384953060011358\n",
            "cost:  1.8384952396347085\n",
            "cost:  1.8384924330530923\n",
            "cost:  1.7234694575096885\n",
            "cost:  1.8071104399052165\n",
            "cost:  1.6947081821993173\n",
            "cost:  1.6947080978557627\n",
            "cost:  1.6946967016722427\n",
            "cost:  1.5131635770644942\n",
            "cost:  2.3606726337905095\n",
            "cost:  1.692762245984045\n",
            "cost:  1.5183424721754897\n",
            "cost:  1.4895126790598778\n",
            "cost:  1.4895126376487164\n",
            "cost:  1.4895110048208609\n",
            "cost:  1.427867943036784\n",
            "cost:  1.3256241281641\n",
            "cost:  1.3256240782255906\n",
            "cost:  1.3256232480450767\n",
            "cost:  1.2849886920773537\n",
            "cost:  1.1899878268334645\n",
            "cost:  1.1899877832683528\n",
            "cost:  1.1197616920096247\n",
            "cost:  1.1197616581428693\n",
            "cost:  1.0656688022848193\n",
            "cost:  1.1519158618188348\n",
            "cost:  1.059838272475388\n",
            "cost:  1.0481741117361754\n",
            "cost:  1.0481740613692174\n",
            "cost:  0.9851625145962275\n",
            "cost:  0.9851624773935738\n",
            "cost:  0.946343317470057\n",
            "cost:  1.1059297679111306\n",
            "cost:  0.9695670421927962\n",
            "cost:  0.9403678693887274\n",
            "cost:  0.9403678260098252\n",
            "cost:  0.8974264291281109\n",
            "cost:  0.8974263914520357\n",
            "cost:  0.8974236190971013\n",
            "cost:  0.8870495433508111\n",
            "cost:  0.8959763611033336\n",
            "cost:  0.880956634477828\n",
            "cost:  0.8809566088556856\n",
            "cost:  0.8631490587382017\n",
            "cost:  0.8631490191781007\n",
            "cost:  0.8631368231370178\n",
            "cost:  0.8450684894613503\n",
            "cost:  0.8450684582508678\n",
            "cost:  0.8450678065766969\n",
            "cost:  0.8390355817684156\n",
            "cost:  0.8288275405161215\n",
            "cost:  0.8288274984056426\n",
            "cost:  0.8288258969156433\n",
            "cost:  0.8238299356664139\n",
            "cost:  0.8238298981608686\n",
            "cost:  0.8238296858386176\n",
            "cost:  0.8193336207287102\n",
            "cost:  0.8083612574742842\n",
            "cost:  1.0890747507325163\n",
            "cost:  0.8540085996568303\n",
            "cost:  0.7993549359496006\n",
            "cost:  0.7993549023727125\n",
            "cost:  0.7927286393366718\n",
            "cost:  0.7927286034808465\n",
            "cost:  0.792723472451365\n",
            "cost:  0.7819802176004097\n",
            "cost:  0.801474017452922\n",
            "cost:  0.7803803622598812\n",
            "cost:  0.7803803293185415\n",
            "cost:  0.7619606007021373\n",
            "cost:  0.8450704807390548\n",
            "cost:  0.7647860945316679\n",
            "cost:  0.7551563053368756\n",
            "cost:  0.7551562688124756\n",
            "cost:  0.738237308288285\n",
            "cost:  0.7382372744713198\n",
            "cost:  0.723821567643336\n",
            "cost:  0.7238215374343533\n",
            "cost:  0.7238187293553265\n",
            "cost:  0.7176352390366764\n",
            "cost:  0.7176352103753026\n",
            "cost:  0.7176349971121302\n",
            "cost:  0.7145312172548807\n",
            "cost:  0.7098336654785281\n",
            "cost:  0.7098336438777173\n",
            "cost:  0.7098312334886028\n",
            "cost:  0.7034082179473621\n",
            "cost:  0.701759795179977\n",
            "cost:  0.7017597652538785\n",
            "cost:  0.6863390378411297\n",
            "cost:  0.6863390100958557\n",
            "cost:  0.6716211341727383\n",
            "cost:  0.6716211009349022\n",
            "cost:  0.6716174899202376\n",
            "cost:  0.6659906314597178\n",
            "cost:  0.6659906048519151\n",
            "cost:  0.6691241037551157\n",
            "cost:  0.6637110709629013\n",
            "cost:  0.6637110529336435\n",
            "cost:  0.663710571376774\n",
            "cost:  0.6601105695367696\n",
            "cost:  0.6601105409190834\n",
            "cost:  0.6553218310680413\n",
            "cost:  0.6553218107499876\n",
            "cost:  0.6557371567433318\n",
            "cost:  0.6518699888210687\n",
            "cost:  0.651869967373052\n",
            "cost:  0.651869600248414\n",
            "cost:  0.6488807102668523\n",
            "cost:  0.6488806681795439\n",
            "cost:  0.6488783844827056\n",
            "cost:  0.6453444051191077\n",
            "cost:  0.6955359371197094\n",
            "cost:  0.6550469570396765\n",
            "cost:  0.6468650464416299\n",
            "cost:  0.6455737802649856\n",
            "cost:  0.6453577777698849\n",
            "cost:  0.6451565738654126\n",
            "cost:  0.645156554219575\n",
            "cost:  0.6441590095399189\n",
            "cost:  0.644158984665309\n",
            "cost:  0.6441583241315411\n",
            "cost:  0.6396791428478932\n",
            "cost:  0.639679114564997\n",
            "cost:  0.6280342826976558\n",
            "cost:  0.6280342678107597\n",
            "cost:  0.6280329734863939\n",
            "cost:  0.6247640441184411\n",
            "cost:  0.6247640283109781\n",
            "cost:  0.6247587891022958\n",
            "cost:  0.6198403352011729\n",
            "cost:  0.6198403128992332\n",
            "cost:  0.6136936457430723\n",
            "cost:  0.6136936254810333\n",
            "cost:  0.6136930659461551\n",
            "cost:  0.6095682489627748\n",
            "cost:  0.6037645802207647\n",
            "cost:  0.6037645657569739\n",
            "cost:  0.5988151070912986\n",
            "cost:  0.598815085956008\n",
            "cost:  0.5988138610918455\n",
            "cost:  0.5942510343661305\n",
            "cost:  0.5942510138645405\n",
            "cost:  0.5948174425500099\n",
            "cost:  0.592846394800862\n",
            "cost:  0.5928463786918586\n",
            "cost:  0.5914530448900246\n",
            "cost:  0.5887863345879821\n",
            "cost:  0.5887863195949565\n",
            "cost:  0.5887853831765608\n",
            "cost:  0.585196601766775\n",
            "cost:  0.5851965763217275\n",
            "cost:  0.5851691652846951\n",
            "cost:  0.5833731048191316\n",
            "cost:  0.5833720172644672\n",
            "cost:  0.5833709083265266\n",
            "cost:  0.5833697777718152\n",
            "cost:  0.5833686253591712\n",
            "cost:  0.5833674508398378\n",
            "cost:  0.5833662539575395\n",
            "cost:  0.5833650344485662\n",
            "cost:  0.5833637920418633\n",
            "cost:  0.583362526459126\n",
            "cost:  0.5833612374149054\n",
            "cost:  0.5833599246167182\n",
            "cost:  0.5833585877651649\n",
            "cost:  0.5833572265540563\n",
            "cost:  0.5833558406705487\n",
            "cost:  0.5833544297952847\n",
            "cost:  0.5833529936025462\n",
            "cost:  0.5833515317604144\n",
            "cost:  0.5833500439309389\n",
            "cost:  0.5833485297703171\n",
            "cost:  0.5833469889290824\n",
            "cost:  0.5833454210523028\n",
            "cost:  0.5833438257797907\n",
            "cost:  0.5833422027463193\n",
            "cost:  0.5833405515818549\n",
            "cost:  0.5833388719117947\n",
            "cost:  0.5833371633572186\n",
            "cost:  0.5833354255351508\n",
            "cost:  0.583333658058832\n",
            "cost:  0.5833318605380029\n",
            "cost:  0.5833300325791991\n",
            "cost:  0.5833281737860567\n",
            "cost:  0.5833262837596284\n",
            "cost:  0.5833243620987106\n",
            "cost:  0.5833224084001841\n",
            "cost:  0.5833204222593605\n",
            "cost:  0.5833184032703437\n",
            "cost:  0.5833163510263987\n",
            "cost:  0.5833142651203325\n",
            "cost:  0.583312145144883\n",
            "cost:  0.5833099906931167\n",
            "cost:  0.5833078013588344\n",
            "cost:  0.5833055767369831\n",
            "cost:  0.5833033164240746\n",
            "cost:  0.5833010200186045\n",
            "cost:  0.583298687121474\n",
            "cost:  0.5832963173364074\n",
            "cost:  0.5832939102703637\n",
            "cost:  1.8365661987249313\n",
            "cost:  0.9769805880174423\n",
            "cost:  0.6763553280995603\n",
            "cost:  0.600495550797914\n",
            "cost:  0.5848816487376644\n",
            "cost:  0.5825874816879554\n",
            "cost:  0.5825874674117136\n",
            "cost:  0.5765485769082476\n",
            "cost:  0.5765485640800833\n",
            "cost:  0.5765484665334565\n",
            "cost:  0.5742865151096195\n",
            "cost:  0.571091780951018\n",
            "cost:  1.1669384102169962\n",
            "cost:  0.6995301853956483\n",
            "cost:  0.5943820785455712\n",
            "cost:  0.5733853995861465\n",
            "cost:  0.5699437692019985\n",
            "cost:  0.5699437551704546\n",
            "cost:  0.5699433178189848\n",
            "cost:  0.5658033955440948\n",
            "cost:  0.5658033776161662\n",
            "cost:  0.5590056864530618\n",
            "cost:  0.5590056717298276\n",
            "cost:  0.5549807937796436\n",
            "cost:  0.5549807798709084\n",
            "cost:  0.5551000856616188\n",
            "cost:  0.5536848839330084\n",
            "cost:  0.5536848724503267\n",
            "cost:  0.5536847846913683\n",
            "cost:  0.552140875142169\n",
            "cost:  0.5500496085295913\n",
            "cost:  0.5500495944344393\n",
            "cost:  0.5500495380910615\n",
            "cost:  0.5482867614485086\n",
            "cost:  0.5469709807317933\n",
            "cost:  0.5469709698352884\n",
            "cost:  0.5406924703323469\n",
            "cost:  0.5406924574997698\n",
            "cost:  0.5406666945165323\n",
            "cost:  0.5631704924107537\n",
            "cost:  0.5403857696752555\n",
            "cost:  0.5378025086447216\n",
            "cost:  0.5378024987390523\n",
            "cost:  0.5358237171232054\n",
            "cost:  0.5358237053945797\n",
            "cost:  0.5306242057609035\n",
            "cost:  0.5306241927953294\n",
            "cost:  0.5306238048633694\n",
            "cost:  0.5269965352097642\n",
            "cost:  0.5269965197767031\n",
            "cost:  0.5269960570521979\n",
            "cost:  0.5235850553087645\n",
            "cost:  0.523585042922824\n",
            "cost:  0.5235849935531586\n",
            "cost:  0.5222627620391125\n",
            "cost:  0.5222627491899186\n",
            "cost:  0.5222620331835516\n",
            "cost:  0.5187715059726805\n",
            "cost:  0.5187714893566561\n",
            "cost:  0.5184720849649161\n",
            "cost:  0.5184720752851861\n",
            "cost:  0.5160914200040936\n",
            "cost:  0.5160914055098771\n",
            "cost:  0.5160910499466115\n",
            "cost:  0.5122986013569514\n",
            "cost:  0.5127880792547423\n",
            "cost:  0.5101106520730103\n",
            "cost:  0.5101106399505575\n",
            "cost:  0.5100520701764546\n",
            "cost:  0.5099828320547533\n",
            "cost:  0.5099404054070926\n",
            "cost:  0.5099020972671983\n",
            "cost:  0.5098668674177684\n",
            "cost:  0.5098340941208263\n",
            "cost:  0.5098033646252961\n",
            "cost:  1.0340108137090573\n",
            "cost:  0.5101106520730103\n"
          ],
          "name": "stdout"
        }
      ]
    },
    {
      "cell_type": "code",
      "metadata": {
        "id": "CFHlVmLtfQG_"
      },
      "source": [
        "#Save learnt parameters to file\n",
        "np.save('./weights', nn_params)"
      ],
      "execution_count": null,
      "outputs": []
    },
    {
      "cell_type": "code",
      "metadata": {
        "id": "OZ5JYni1gtDb"
      },
      "source": [
        " \n",
        "#Run this cell to load weights amd then run predict\n",
        "nn_params = np.load('./weights.npy')\n",
        "#reconstruct thetas\n",
        "Theta1 = np.reshape(nn_params[:hidden_layer_size * (input_layer_size + 1)],                    (hidden_layer_size, (input_layer_size + 1)))\n",
        " \n",
        "Theta2 = np.reshape(nn_params[(hidden_layer_size * (input_layer_size + 1)):],\n",
        "                    (num_labels, (hidden_layer_size + 1)))"
      ],
      "execution_count": null,
      "outputs": []
    },
    {
      "cell_type": "code",
      "metadata": {
        "colab": {
          "base_uri": "https://localhost:8080/"
        },
        "id": "7Ez3k7GKq9ju",
        "outputId": "e5488bc3-376d-4183-b147-2d314753b2ac"
      },
      "source": [
        "pred = predict(Theta1, Theta2, X_train)\n",
        "print('Training Set Accuracy: {:.2F}%'.format((np.mean(pred == Y_train) * 100)))"
      ],
      "execution_count": null,
      "outputs": [
        {
          "output_type": "stream",
          "text": [
            "Training Set Accuracy: 92.50%\n"
          ],
          "name": "stdout"
        },
        {
          "output_type": "stream",
          "text": [
            "/usr/local/lib/python3.6/dist-packages/ipykernel_launcher.py:20: RuntimeWarning: overflow encountered in exp\n"
          ],
          "name": "stderr"
        }
      ]
    },
    {
      "cell_type": "code",
      "metadata": {
        "colab": {
          "base_uri": "https://localhost:8080/"
        },
        "id": "KM2YcDYOQlNH",
        "outputId": "42ad4fc7-c8d4-4714-b3e9-284ecbffa187"
      },
      "source": [
        "pred = predict(Theta1, Theta2, X_test)\n",
        "print('Test Set Accuracy: {:.2F}%'.format((np.mean(pred == Y_test) * 100)))"
      ],
      "execution_count": null,
      "outputs": [
        {
          "output_type": "stream",
          "text": [
            "Test Set Accuracy: 92.17%\n"
          ],
          "name": "stdout"
        },
        {
          "output_type": "stream",
          "text": [
            "/usr/local/lib/python3.6/dist-packages/ipykernel_launcher.py:20: RuntimeWarning: overflow encountered in exp\n"
          ],
          "name": "stderr"
        }
      ]
    },
    {
      "cell_type": "markdown",
      "metadata": {
        "id": "oP6YEh57ZIHq"
      },
      "source": [
        " Let's see some examples from the test set"
      ]
    },
    {
      "cell_type": "code",
      "metadata": {
        "colab": {
          "base_uri": "https://localhost:8080/",
          "height": 264
        },
        "id": "M19_eUsvZO_x",
        "outputId": "6e0d177c-39d8-40a7-8fb5-a146f124630d"
      },
      "source": [
        "i = 0\n",
        "s = 'Classified as: '+ str(pred[i])\n",
        "plt.title(s)\n",
        "plt.axis('off')\n",
        "plt.imshow(X_test[i].reshape(28,28))\n",
        "plt.show()"
      ],
      "execution_count": null,
      "outputs": [
        {
          "output_type": "display_data",
          "data": {
            "image/png": "[encoded data removed]",
            "text/plain": [
              "<Figure size 432x288 with 1 Axes>"
            ]
          },
          "metadata": {
            "tags": [],
            "needs_background": "light"
          }
        }
      ]
    },
    {
      "cell_type": "code",
      "metadata": {
        "colab": {
          "base_uri": "https://localhost:8080/",
          "height": 264
        },
        "id": "GpfNMfiYljJq",
        "outputId": "7729a811-989a-497d-d712-e4ddef5e5440"
      },
      "source": [
        " i = 1\n",
        "s = 'Classified as: '+ str(pred[i])\n",
        "plt.title(s)\n",
        "plt.axis('off')\n",
        "plt.imshow(X_test[i].reshape(28,28))\n",
        "plt.show()"
      ],
      "execution_count": null,
      "outputs": [
        {
          "output_type": "display_data",
          "data": {
            "image/png": "[encoded data removed]",
            "text/plain": [
              "<Figure size 432x288 with 1 Axes>"
            ]
          },
          "metadata": {
            "tags": [],
            "needs_background": "light"
          }
        }
      ]
    },
    {
      "cell_type": "code",
      "metadata": {
        "colab": {
          "base_uri": "https://localhost:8080/",
          "height": 264
        },
        "id": "MUqSKZ1KloCr",
        "outputId": "6e7810a8-d2fb-435e-bab3-3c02f98f06b0"
      },
      "source": [
        " i = 2\n",
        "s = 'Classified as: '+ str(pred[i])\n",
        "plt.title(s)\n",
        "plt.axis('off')\n",
        "plt.imshow(X_test[i].reshape(28,28))\n",
        "plt.show()"
      ],
      "execution_count": null,
      "outputs": [
        {
          "output_type": "display_data",
          "data": {
            "image/png": "[encoded data removed]",
            "text/plain": [
              "<Figure size 432x288 with 1 Axes>"
            ]
          },
          "metadata": {
            "tags": [],
            "needs_background": "light"
          }
        }
      ]
    },
    {
      "cell_type": "code",
      "metadata": {
        "colab": {
          "base_uri": "https://localhost:8080/",
          "height": 264
        },
        "id": "yTbmrjxulvZN",
        "outputId": "d683ce8f-61c5-4135-e647-fb4924722565"
      },
      "source": [
        " i = 3\n",
        "s = 'Classified as: '+ str(pred[i])\n",
        "plt.title(s)\n",
        "plt.axis('off')\n",
        "plt.imshow(X_test[i].reshape(28,28))\n",
        "plt.show()"
      ],
      "execution_count": null,
      "outputs": [
        {
          "output_type": "display_data",
          "data": {
            "image/png": "[encoded data removed]",
            "text/plain": [
              "<Figure size 432x288 with 1 Axes>"
            ]
          },
          "metadata": {
            "tags": [],
            "needs_background": "light"
          }
        }
      ]
    },
    {
      "cell_type": "code",
      "metadata": {
        "colab": {
          "base_uri": "https://localhost:8080/",
          "height": 264
        },
        "id": "sFuxEFRVl5Dh",
        "outputId": "a6c73975-569a-4c09-b359-ab2db709b9b4"
      },
      "source": [
        " i = 4\n",
        "s = 'Classified as: '+ str(pred[i])\n",
        "plt.title(s)\n",
        "plt.axis('off')\n",
        "plt.imshow(X_test[i].reshape(28,28))\n",
        "plt.show()"
      ],
      "execution_count": null,
      "outputs": [
        {
          "output_type": "display_data",
          "data": {
            "image/png": "[encoded data removed]",
            "text/plain": [
              "<Figure size 432x288 with 1 Axes>"
            ]
          },
          "metadata": {
            "tags": [],
            "needs_background": "light"
          }
        }
      ]
    },
    {
      "cell_type": "code",
      "metadata": {
        "colab": {
          "base_uri": "https://localhost:8080/",
          "height": 264
        },
        "id": "1FB0muCjmj4_",
        "outputId": "01b48220-608f-4428-be57-095dfcbff390"
      },
      "source": [
        " i = 5\n",
        "s = 'Classified as: '+ str(pred[i])\n",
        "plt.title(s)\n",
        "plt.axis('off')\n",
        "plt.imshow(X_test[i].reshape(28,28))\n",
        "plt.show()"
      ],
      "execution_count": null,
      "outputs": [
        {
          "output_type": "display_data",
          "data": {
            "image/png": "[encoded data removed]",
            "text/plain": [
              "<Figure size 432x288 with 1 Axes>"
            ]
          },
          "metadata": {
            "tags": [],
            "needs_background": "light"
          }
        }
      ]
    },
    {
      "cell_type": "code",
      "metadata": {
        "colab": {
          "base_uri": "https://localhost:8080/",
          "height": 264
        },
        "id": "4Bu5ODmgmq7j",
        "outputId": "99a0f438-c3d4-46a3-aa1c-a2a8fd879eb5"
      },
      "source": [
        " i = 6\n",
        "s = 'Classified as: '+ str(pred[i])\n",
        "plt.title(s)\n",
        "plt.axis('off')\n",
        "plt.imshow(X_test[i].reshape(28,28))\n",
        "plt.show()"
      ],
      "execution_count": null,
      "outputs": [
        {
          "output_type": "display_data",
          "data": {
            "image/png": "[encoded data removed]",
            "text/plain": [
              "<Figure size 432x288 with 1 Axes>"
            ]
          },
          "metadata": {
            "tags": [],
            "needs_background": "light"
          }
        }
      ]
    },
    {
      "cell_type": "code",
      "metadata": {
        "colab": {
          "base_uri": "https://localhost:8080/",
          "height": 264
        },
        "id": "893jZsq7mt-7",
        "outputId": "01793ae4-1171-4f9c-9533-8986509080bc"
      },
      "source": [
        " i = 8\n",
        "s = 'Classified as: '+ str(pred[i])\n",
        "plt.title(s)\n",
        "plt.axis('off')\n",
        "plt.imshow(X_test[i].reshape(28,28))\n",
        "plt.show()"
      ],
      "execution_count": null,
      "outputs": [
        {
          "output_type": "display_data",
          "data": {
            "image/png": "[encoded data removed]",
            "text/plain": [
              "<Figure size 432x288 with 1 Axes>"
            ]
          },
          "metadata": {
            "tags": [],
            "needs_background": "light"
          }
        }
      ]
    }
  ]
}
