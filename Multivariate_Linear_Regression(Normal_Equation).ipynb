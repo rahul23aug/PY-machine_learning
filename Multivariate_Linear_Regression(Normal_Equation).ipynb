{
  "nbformat": 4,
  "nbformat_minor": 0,
  "metadata": {
    "colab": {
      "name": "Multivariate_Linear_Regression(Normal-Equation).ipynb",
      "provenance": []
    },
    "kernelspec": {
      "name": "python3",
      "display_name": "Python 3"
    }
  },
  "cells": [
    {
      "cell_type": "code",
      "metadata": {
        "id": "XHlEINQs77h_",
        "colab_type": "code",
        "colab": {}
      },
      "source": [
        "import pandas as pd, numpy as np\n",
        "import matplotlib.pyplot as plt\n",
        "from numpy.linalg import *"
      ],
      "execution_count": null,
      "outputs": []
    },
    {
      "cell_type": "code",
      "metadata": {
        "id": "lJUp_OHs8MFe",
        "colab_type": "code",
        "colab": {}
      },
      "source": [
        " \n",
        "Dataset = pd.read_csv('/50_Startups.csv')\n",
        "D0= Dataset['State'].replace({'California':1,'Florida':0,'New York':0})\n",
        "D1= Dataset['State'].replace({'California':0,'Florida':1,'New York':0})\n",
        "Dataset['ones']=np.ones(Dataset.shape[0]).reshape(Dataset.shape[0],1)\n",
        "Dataset['D0'] = D0\n",
        "Dataset['D1'] = D1\n",
        "X_features = pd.DataFrame(Dataset[['ones','R&D Spend', 'Administration', 'Marketing Spend','D0', 'D1']])\n",
        "Y_response= pd.DataFrame(Dataset[Dataset.columns[-4]])"
      ],
      "execution_count": null,
      "outputs": []
    },
    {
      "cell_type": "code",
      "metadata": {
        "id": "Sq41rGYHyJvn",
        "colab_type": "code",
        "colab": {}
      },
      "source": [
        "X=X_features.iloc[:,:].values\n",
        "Y=Y_response.iloc[:,:].values"
      ],
      "execution_count": null,
      "outputs": []
    },
    {
      "cell_type": "code",
      "metadata": {
        "id": "BG-Kx_UT9kKx",
        "colab_type": "code",
        "colab": {}
      },
      "source": [
        "xsq= X.T.dot(X)\n",
        "Xinv=inv(xsq)\n",
        "XY= X.T.dot(Y)"
      ],
      "execution_count": null,
      "outputs": []
    },
    {
      "cell_type": "code",
      "metadata": {
        "id": "_7R5P-Cn4rU2",
        "colab_type": "code",
        "colab": {
          "base_uri": "https://localhost:8080/",
          "height": 119
        },
        "outputId": "7abd68da-b7a8-47f3-f690-7dd9b5161590"
      },
      "source": [
        "Theta=Xinv.dot(XY)\n",
        "Theta"
      ],
      "execution_count": null,
      "outputs": [
        {
          "output_type": "execute_result",
          "data": {
            "text/plain": [
              "array([[ 5.00834568e+04],\n",
              "       [ 8.06023114e-01],\n",
              "       [-2.70043196e-02],\n",
              "       [ 2.69798610e-02],\n",
              "       [ 4.18870191e+01],\n",
              "       [ 2.40675812e+02]])"
            ]
          },
          "metadata": {
            "tags": []
          },
          "execution_count": 111
        }
      ]
    },
    {
      "cell_type": "code",
      "metadata": {
        "id": "wlHkeVyW9xfj",
        "colab_type": "code",
        "colab": {
          "base_uri": "https://localhost:8080/",
          "height": 34
        },
        "outputId": "c7e4d34b-98a1-42a2-b1f8-6b1c3df8e921"
      },
      "source": [
        "Yp= X.dot(Th)\n",
        "R= Yp - Y\n",
        "MSE=(R**2).sum() / X_features.shape[0]\n",
        "print('MSE: ',MSE)"
      ],
      "execution_count": null,
      "outputs": [
        {
          "output_type": "stream",
          "text": [
            "MSE:  78406792.88803767\n"
          ],
          "name": "stdout"
        }
      ]
    },
    {
      "cell_type": "code",
      "metadata": {
        "id": "YDJn3A7qS71X",
        "colab_type": "code",
        "colab": {
          "base_uri": "https://localhost:8080/",
          "height": 210
        },
        "outputId": "4fb3d323-bcb2-438f-aef6-9aa2e426ca4c"
      },
      "source": [
        "X_axis= np.arange(Yp.shape[0])\n",
        "plt.plot(X_axis, Yp, color='blue')\n",
        "plt.plot(X_axis, Y, color='orange')\n",
        "plt.show()"
      ],
      "execution_count": null,
      "outputs": [
        {
          "output_type": "display_data",
          "data": {
            "image/png": "[encoded data removed]",
            "text/plain": [
              "<Figure size 432x288 with 1 Axes>"
            ]
          },
          "metadata": {
            "tags": [],
            "needs_background": "light"
          }
        }
      ]
    }
  ]
}
