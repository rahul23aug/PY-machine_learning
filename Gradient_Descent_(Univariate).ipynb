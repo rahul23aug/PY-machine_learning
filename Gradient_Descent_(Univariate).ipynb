{
  "nbformat": 4,
  "nbformat_minor": 0,
  "metadata": {
    "colab": {
      "name": "Gradient Descent (Univariate)",
      "provenance": [],
      "collapsed_sections": []
    },
    "kernelspec": {
      "display_name": "Python 3",
      "name": "python3"
    }
  },
  "cells": [
    {
      "cell_type": "markdown",
      "metadata": {
        "id": "HFQsXwLUNHLc",
        "colab_type": "text"
      },
      "source": [
        "UNIVARIATE DATASET:\n",
        "\n",
        "\n",
        "    x       y\n",
        "\n",
        "    0      0.2\n",
        "\n",
        "    0.5    0.78\n",
        "\n",
        "    1      0.89\n",
        "\n",
        "    1.5    1.2\n",
        "\n",
        "    2      2.2\n",
        "\n",
        "    2.5    2.5\n",
        "\n",
        "    3      2.789\n",
        "\n",
        "    3.5    4.3\n",
        "\n",
        "Since this is a univariate dataset we will not apply feature scaling"
      ]
    },
    {
      "cell_type": "code",
      "metadata": {
        "colab_type": "code",
        "id": "C4HZx7Gndbrh",
        "colab": {
          "base_uri": "https://localhost:8080/",
          "height": 415
        },
        "outputId": "90770a35-9298-440e-c36f-a9c1c24d11b6"
      },
      "source": [
        "#import libraries\n",
        "import numpy as np\n",
        "from matplotlib import pyplot as plt\n",
        "ml=[]\n",
        "cl=[]\n",
        "rl=[]\n",
        "alpha_value=0\n",
        "iterate=0\n",
        "#init_R=0 ---will be used for automtic optimization\n",
        "def gradient(m=0,c=7,alpha=0.1,iter=50000):\n",
        "  global iterate\n",
        "  iterate= iter\n",
        "  global alpha_value\n",
        "  alpha_value=alpha\n",
        "  #get the dataset as a numpy array \n",
        "  s=np.array([0.2,0.78,.89,1.2,2.2,2.5,2.789,4.3])\n",
        "  x=np.array([0,0.5,1,1.5,2,2.5,3,3.5])\n",
        "  yp=m*x+c\n",
        "  n=len(s)\n",
        "  i=0\n",
        "  while(i<iter):\n",
        "    i+=1\n",
        "    R=yp-s\n",
        "    global rl \n",
        "    rl.append(R.sum())\n",
        "    m=m-(alpha*sum(R*x)*(1/n))\n",
        "    c=c-(alpha*sum(R)*(1/n))    \n",
        "    global ml\n",
        "    global cl\n",
        "    cl.append(c)\n",
        "    ml.append(m)\n",
        "    yp=m*x+c\n",
        "  return [m,c,(((yp-s)**2)/n).sum()]\n",
        "s=np.array([.2,.78,.89,1.20,2.20,2.5,2.789,4.300])\n",
        "n=len(s)\n",
        "#Run Gradient Descent  (seed_value,seed_value,alpha,iterations)\n",
        "m,c,res= gradient(1,0.5,0.03,300)\n",
        "xi=np.arange(iterate)\n",
        "x=np.array([0,.5,1,1.5,2,2.5,3,3.5])\n",
        "#Evaluate the model\n",
        "yp = m*x + c\n",
        "print(\"MODEL parameters:\")\n",
        "print(\"iterations: \",iterate)\n",
        "print(\"alpha: \",alpha_value)\n",
        "if(c>=0):\n",
        " print(\"Hypothesis Line: \"+str(m)+'*x + '+str(c))\n",
        "else:\n",
        " print(\"Hypothesis Line: \"+str(m)+'*x '+str(c))\n",
        "print('MSE: %.4f '%res)\n",
        "print('\\n\\n\\n')\n",
        "plt.scatter(x,s,color='red')\n",
        "plt.plot(x,yp)\n",
        "plt.title(\"Regression Line\")\n",
        "plt.xlabel(\"Feature\")\n",
        "plt.ylabel(\"Response\")\n",
        "plt.show()"
      ],
      "execution_count": null,
      "outputs": [
        {
          "output_type": "stream",
          "text": [
            "MODEL parameters:\n",
            "iterations:  300\n",
            "alpha:  0.03\n",
            "Hypothesis Line: 1.042643946453753*x + 0.044012303452382065\n",
            "MSE: 0.1022 \n",
            "\n",
            "\n",
            "\n",
            "\n"
          ],
          "name": "stdout"
        },
        {
          "output_type": "display_data",
          "data": {
            "image/png": "[encoded data removed]",
            "text/plain": [
              "<Figure size 432x288 with 1 Axes>"
            ]
          },
          "metadata": {
            "tags": [],
            "needs_background": "light"
          }
        }
      ]
    },
    {
      "cell_type": "markdown",
      "metadata": {
        "id": "z5adSQUEM9WI",
        "colab_type": "text"
      },
      "source": [
        "\n",
        "gradient descent is given by \n",
        "Theta0=Theta0-(1/2m*d/dTheta0(sum(yp-yi))**2\n",
        "\n",
        "Theta1=Theta1-(1/2m*d/dTheta1(sum(yp-yi))**2\n",
        "\n",
        "yp= Theta0 + Theta1*x\n",
        "\n",
        "so\n",
        "\n",
        "Theta0=Theta0-(1/m*sum(R))\n",
        "\n",
        "Theta1=Theta1-(1/m*sum(R)xi)\n",
        "\n",
        "iterate until convergence"
      ]
    },
    {
      "cell_type": "code",
      "metadata": {
        "id": "tOOU4Gpp95jm",
        "colab_type": "code",
        "colab": {
          "base_uri": "https://localhost:8080/",
          "height": 295
        },
        "outputId": "800de439-e139-4566-a9a8-cd4b106fe827"
      },
      "source": [
        "rm=np.array(rl)\n",
        "plt.plot(xi,rm**2,color='orange')\n",
        "plt.plot(xi,np.zeros(iterate),color='gray')\n",
        "plt.title(\"Gradient Descent\")\n",
        "plt.xlabel(\"Iterations\")\n",
        "plt.ylabel(\"Residual Error\")\n",
        "plt.show()"
      ],
      "execution_count": null,
      "outputs": [
        {
          "output_type": "display_data",
          "data": {
            "image/png": "[encoded data removed]",
            "text/plain": [
              "<Figure size 432x288 with 1 Axes>"
            ]
          },
          "metadata": {
            "tags": [],
            "needs_background": "light"
          }
        }
      ]
    },
    {
      "cell_type": "markdown",
      "metadata": {
        "id": "bS-QfFSKJvgQ",
        "colab_type": "text"
      },
      "source": [
        "USE THE MODEL TO PREDICT VALUES \n"
      ]
    },
    {
      "cell_type": "code",
      "metadata": {
        "id": "quQYmZBkJrw8",
        "colab_type": "code",
        "colab": {
          "base_uri": "https://localhost:8080/",
          "height": 35
        },
        "outputId": "8a016d4b-9658-4e41-842d-4af8369daa70"
      },
      "source": [
        "def predict(feature):\n",
        "  return m*feature+c\n",
        "response=predict(2)\n",
        "print(\"Predicted Response: %.4f\"%response)"
      ],
      "execution_count": null,
      "outputs": [
        {
          "output_type": "stream",
          "text": [
            "Predicted Response: 2.1304\n"
          ],
          "name": "stdout"
        }
      ]
    }
  ]
}